{
 "cells": [
  {
   "cell_type": "code",
   "execution_count": 9,
   "metadata": {},
   "outputs": [
    {
     "name": "stdout",
     "output_type": "stream",
     "text": [
      "file=GANResult_099.png\n",
      "file=GANHistory.png\n",
      "file=GANLoss.png\n"
     ]
    }
   ],
   "source": [
    "import sys\n",
    "from PIL import Image\n",
    "import numpy as np\n",
    "import matplotlib.pyplot as plt\n",
    "import pickle as pkl\n",
    "\n",
    "# gan_mnist의 EPOCHS값\n",
    "EPOCHS = 100\n",
    "\n",
    "def display(fname):\n",
    "    img = Image.open(fname)\n",
    "    img.show()\n",
    "\n",
    "def result(ep):\n",
    "    with open('save_gimage.pkl', 'rb') as f:\n",
    "        save_gimage = pkl.load(f)\n",
    "        \n",
    "        fig, axes = plt.subplots(5, 5, figsize=(28,28))\n",
    "        \n",
    "        for img, ax in zip(save_gimage[ep], axes.flatten()):\n",
    "            ax.xaxis.set_visible(False)\n",
    "            ax.yaxis.set_visible(False)\n",
    "            ax.imshow(img.reshape((28,28)), cmap='gray')\n",
    "        if ep == -1:\n",
    "            ep = EPOCHS -1\n",
    "        \n",
    "        fname = 'GANResult_'+format(ep, '03d')+'.png'\n",
    "        print('file='+fname)\n",
    "        plt.savefig(fname)\n",
    "        display(fname)\n",
    "\n",
    "def history():\n",
    "    with open('save_gimage.pkl', 'rb') as f:\n",
    "        save_gimage = pkl.load(f)\n",
    "        fig, axes = plt.subplots(int(EPOCHS/10), 5, figsize=(28,28))\n",
    "        \n",
    "        for save_gimage, ax_row in zip(save_gimage[::10], axes):\n",
    "            for img, ax in zip(save_gimage[::1], ax_row):\n",
    "                ax.imshow(img.reshape((28,28)), cmap='gray')\n",
    "                ax.xaxis.set_visible(False)\n",
    "                ax.yaxis.set_visible(False)\n",
    "        \n",
    "        fname = 'GANHistory.png'\n",
    "        print('file='+fname)\n",
    "        plt.savefig(fname)\n",
    "        display(fname)\n",
    "\n",
    "def loss():\n",
    "    with open('save_loss.pkl', 'rb') as f:\n",
    "        save_loss = pkl.load(f)\n",
    "        \n",
    "        fig, ax = plt.subplots()\n",
    "        loss = np.array(save_loss)\n",
    "        plt.plot(loss.T[0], label='Discriminator')\n",
    "        plt.plot(loss.T[1], label='Generator')\n",
    "        plt.title('Loss')\n",
    "        plt.legend()\n",
    "        fname=\"GANLoss.png\"\n",
    "        print('file='+fname)\n",
    "        plt.savefig(fname)\n",
    "        display(fname)\n",
    "\n",
    "if __name__ == '__manin__':\n",
    "    args = sys.argv\n",
    "    ep = 0\n",
    "    \n",
    "    if len(args) == 1: result(-1)\n",
    "    elif args[1] == 'h': history()\n",
    "    elif args[1] == 'l': loss()\n",
    "    else: result(int(args[1]))\n",
    "else:\n",
    "    result(99)\n",
    "    history()\n",
    "    loss()\n",
    "    "
   ]
  },
  {
   "cell_type": "code",
   "execution_count": null,
   "metadata": {
    "collapsed": true
   },
   "outputs": [],
   "source": []
  }
 ],
 "metadata": {
  "kernelspec": {
   "display_name": "Python 3",
   "language": "python",
   "name": "python3"
  },
  "language_info": {
   "codemirror_mode": {
    "name": "ipython",
    "version": 3
   },
   "file_extension": ".py",
   "mimetype": "text/x-python",
   "name": "python",
   "nbconvert_exporter": "python",
   "pygments_lexer": "ipython3",
   "version": "3.6.2"
  }
 },
 "nbformat": 4,
 "nbformat_minor": 2
}
