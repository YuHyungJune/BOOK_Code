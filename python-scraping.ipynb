{
 "cells": [
  {
   "cell_type": "code",
   "execution_count": null,
   "metadata": {
    "collapsed": true
   },
   "outputs": [],
   "source": [
    "from bs4 import BeautifulSoup\n",
    "import urllib.request as req\n",
    "import os.path\n",
    "\n",
    "url = \"http://www.city.yokohama.lg.jp/somu/org/kikikanri/data/shelter.xml\"\n",
    "savename = \"shelter.xml\"\n",
    "if not os.path.exists(savename):\n",
    "    req.urlretrieve(url, savename)\n",
    "\n",
    "xml = open(savename, \"r\", encoding=\"utf-8\").read()\n",
    "soup = BeautifulSoup(xml, 'html.parser')\n",
    "\n",
    "info = {}\n",
    "for i in soup.find_all(\"shelter\"):\n",
    "    name = i.find('name').string\n",
    "    ward = i.find('ward').string\n",
    "    addr = i.find('address').string\n",
    "    note = i.find('notes').string\n",
    "    if not (ward in info):\n",
    "        info[ward] = []\n",
    "    info[ward].append(name)\n",
    "\n",
    "for ward in info.keys():\n",
    "    print(\"+\", ward)\n",
    "    for name in info[ward]:\n",
    "        print(\"|-\", name)"
   ]
  },
  {
   "cell_type": "code",
   "execution_count": null,
   "metadata": {
    "collapsed": true
   },
   "outputs": [],
   "source": [
    "import urllib.request as req\n",
    "import os.path, random\n",
    "import json\n",
    "\n",
    "url = \"http://api.aoikujira.com/hyakunin/get.php?fmt=json\"\n",
    "savename = \"hyakunin.json\"\n",
    "if not os.path.exists(savename):\n",
    "    req.urlretrieve(url, savename)\n",
    "\n",
    "data = json.load(open(savename, \"r\", encoding=\"utf-8\"))\n",
    "r = random.choice(data)\n",
    "print(r['kami'], \",\", r['simo'])"
   ]
  },
  {
   "cell_type": "code",
   "execution_count": null,
   "metadata": {
    "collapsed": true
   },
   "outputs": [],
   "source": [
    "import yaml\n",
    "\n",
    "test = \"\"\"\n",
    "Date: 2018-08-27\n",
    "PriceList:\n",
    "    -\n",
    "        item_id: 1000\n",
    "        name: Banana\n",
    "        color: yellow\n",
    "        price: 800\n",
    "    -\n",
    "        item_id: 1001\n",
    "        name: Orange\n",
    "        color: orange\n",
    "        price: 1400\n",
    "    -\n",
    "        item_id: 1002\n",
    "        name: Apple\n",
    "        color: red\n",
    "        price: 2400\n",
    "\"\"\"\n",
    "data = yaml.load(test)\n",
    "for item in data['PriceList']:\n",
    "    print(item['name'],',',item['price'])\n"
   ]
  },
  {
   "cell_type": "code",
   "execution_count": null,
   "metadata": {
    "collapsed": true
   },
   "outputs": [],
   "source": [
    "import yaml\n",
    "\n",
    "savename = \"hyakunin.json\"\n",
    "data = json.load(open(savename, \"r\", encoding=\"utf-8\"))\n",
    "yaml_str = yaml.dump(data)\n",
    "print(yaml_str)\n",
    "print(\"--- --- ---\")\n",
    "yaml_data = yaml.load(yaml_str)\n",
    "for item in yaml_data:\n",
    "    print(item[\"kami\"], \",\", item['simo'])"
   ]
  },
  {
   "cell_type": "code",
   "execution_count": null,
   "metadata": {
    "collapsed": true
   },
   "outputs": [],
   "source": [
    "import urllib.request as request\n",
    "import datetime\n",
    "import json\n",
    "API = \"http://api.aoikujira.com/kawase/get.php?code=USD&format=json\"\n",
    "json_str = request.urlopen(API).read().decode(\"utf-8\")\n",
    "data = json.loads(json_str)\n",
    "print(\"1USD=\"+data[\"JPY\"]+\"JPY\")\n",
    "\n",
    "t = datetime.date.today()\n",
    "fname = t.strftime(\"%Y-%m-%d\") + \".json\"\n",
    "with open(fname, \"w\", encoding=\"utf-8\") as f:\n",
    "    f.write(json_str)\n"
   ]
  },
  {
   "cell_type": "code",
   "execution_count": null,
   "metadata": {
    "collapsed": true
   },
   "outputs": [],
   "source": [
    "import codecs\n",
    "import os\n",
    "print(os.getcwd())\n",
    "filename = \"../Downloads/검색샌터_원더쇼핑 상위 검색키워드 (1).csv\"\n",
    "csv = codecs.open(filename, \"r\", \"utf-8\").read()\n",
    "\n",
    "data = []\n",
    "rows = csv.split(\"\\r\\n\")\n",
    "for row in rows:\n",
    "    if row == \"\": continue\n",
    "    cells = row.split(\",\")\n",
    "    data.append(cells)\n",
    "\n",
    "for c in data:\n",
    "    print(c[0], c[1])"
   ]
  },
  {
   "cell_type": "code",
   "execution_count": null,
   "metadata": {
    "collapsed": true
   },
   "outputs": [],
   "source": [
    "import openpyxl\n",
    "\n",
    "filename = \"./20180717_지역코드맵핑_Ver 1.0.xlsx\"\n",
    "book = openpyxl.load_workbook(filename)\n",
    "# print(book.worksheets)\n",
    "sheet = book.worksheets[0]\n",
    "\n",
    "data = []\n",
    "for row in sheet.rows:\n",
    "    temp = []\n",
    "    for i in range(0,len(row)):\n",
    "        # print(row[i].value, end=' ')\n",
    "        if row[i].value: temp.append(row[i].value)\n",
    "    data.append(temp)\n",
    "\n",
    "del data[0]\n",
    "data = sorted(data, key=lambda x:x[2])\n",
    "for i, a in enumerate(data):\n",
    "    print(i+1, a[0],a[1],a[2])"
   ]
  },
  {
   "cell_type": "code",
   "execution_count": null,
   "metadata": {
    "collapsed": true
   },
   "outputs": [],
   "source": [
    "import openpyxl\n",
    "\n",
    "filename = \"./20180717_지역코드맵핑_Ver 1.0.xlsx\"\n",
    "book = openpyxl.load_workbook(filename)\n",
    "\n",
    "sheet = book.active\n",
    "print(sheet)\n",
    "sheet[\"A1\"] = \"test\"\n",
    "sheet[\"B1\"] = \"test\"\n",
    "\n",
    "col = sheet[\"B1\"]\n",
    "col.font = openpyxl.styles.Font(size=14,color=\"FF0000\")\n",
    "col = sheet[\"A1\"]\n",
    "col.font = openpyxl.styles.Font(size=20,color=\"00FF00\")\n",
    "\n",
    "filename = \"./20180717_지역코드맵핑_Ver 1.0_test.xlsx\"\n",
    "book.save(filename)\n",
    "print(\"ok\")"
   ]
  },
  {
   "cell_type": "code",
   "execution_count": null,
   "metadata": {
    "collapsed": true
   },
   "outputs": [],
   "source": [
    "import pandas as pd\n",
    "\n",
    "filename = \"./20180717_지역코드맵핑_Ver 1.0.xlsx\"\n",
    "sheet_name = \"1차완성\"\n",
    "book = pd.read_excel(filename, sheetname=sheet_name)\n",
    "\n",
    "book.sort_values(by=\"국가코드_항공\", ascending=True)\n",
    "print(book)\n"
   ]
  },
  {
   "cell_type": "code",
   "execution_count": null,
   "metadata": {
    "collapsed": true
   },
   "outputs": [],
   "source": [
    "from tinydb import TinyDB, Query\n",
    "\n",
    "filepath = \"./test-tinydb.json\"\n",
    "db = TinyDB(filepath)\n",
    "\n",
    "db.purge_table('fruits')\n",
    "\n",
    "table = db.table(\"fruits\")\n",
    "\n",
    "table.insert({'name':'Banna', 'price':600})\n",
    "table.insert({'name':'Orange', 'price':1200})\n",
    "table.insert({'name':'Mango', 'price':840})\n",
    "\n",
    "print(table.all())\n",
    "Item = Query()\n",
    "res = table.search(Item.name == 'Orange')\n",
    "print('Orange is ', res[0]['price'])\n",
    "\n",
    "print(\"800 이상 물건 :\")\n",
    "res = table.search(Item.price >=800)\n",
    "for item in res:\n",
    "    print(\"-\", item['name'])"
   ]
  },
  {
   "cell_type": "code",
   "execution_count": null,
   "metadata": {
    "collapsed": true
   },
   "outputs": [],
   "source": [
    "from sklearn import svm\n",
    "\n",
    "xor_data = [\n",
    "    #P,Q,Result\n",
    "    [0,0,0],\n",
    "    [0,1,1],\n",
    "    [1,0,1],\n",
    "    [1,1,0]\n",
    "]\n",
    "\n",
    "data = []\n",
    "label = []\n",
    "for row in xor_data:\n",
    "    p = row[0]\n",
    "    q = row[1]\n",
    "    r = row[2]\n",
    "    data.append([p,q])\n",
    "    label.append(r)\n",
    "\n",
    "clf = svm.SVC()\n",
    "clf.fit(data, label)\n",
    "\n",
    "pre = clf.predict(data)\n",
    "print(\"예측결과:\", pre)\n",
    "\n",
    "print(label)\n",
    "ok = 0; total = 0\n",
    "for idx, answer in enumerate(label):\n",
    "    print(idx, answer)\n",
    "    p = pre[idx]\n",
    "    if p == answer: ok += 1\n",
    "    total += 1\n",
    "print(\"정답률:\", ok, \"/\", total, \"=\", ok/total)"
   ]
  },
  {
   "cell_type": "code",
   "execution_count": null,
   "metadata": {
    "collapsed": true
   },
   "outputs": [],
   "source": [
    "# xor-tran2\n",
    "import pandas as pd\n",
    "from sklearn import svm, metrics\n",
    "\n",
    "xor_input = [\n",
    "    [0,0,0],\n",
    "    [0,1,1],\n",
    "    [1,0,1],\n",
    "    [1,1,0]\n",
    "]\n",
    "\n",
    "xor_df = pd.DataFrame(xor_input)\n",
    "xor_data = xor_df.loc[:, [0,1]] # data\n",
    "print(\"xor_data:\",xor_data)\n",
    "xor_label = xor_df.loc[:,2] # result\n",
    "print(\"xor_label:\",xor_label)\n",
    "\n",
    "clf = svm.SVC()\n",
    "clf.fit(xor_data, xor_label)\n",
    "pre = clf.predict(xor_data)\n",
    "\n",
    "ac_score = metrics.accuracy_score(xor_label, pre)\n",
    "print(\"정답률:\", ac_score)"
   ]
  },
  {
   "cell_type": "code",
   "execution_count": null,
   "metadata": {
    "collapsed": true
   },
   "outputs": [],
   "source": [
    "# iris-train\n",
    "from sklearn import svm, metrics\n",
    "import random, re\n",
    "\n",
    "csv = []\n",
    "with open(\"./iris.csv\", \"r\", encoding=\"utf-8\") as fp:\n",
    "    for line in fp:\n",
    "        line = line.strip()\n",
    "        cols = line.split(\",\")\n",
    "        fn = lambda n: float(n) if re.match(r\"^[0-9\\.]+$\", n) else n\n",
    "        cols = list(map(fn, cols))\n",
    "        csv.append(cols)\n",
    "# print(csv)\n",
    "\n",
    "del csv[0]\n",
    "random.shuffle(csv)\n",
    "total_len = len(csv)\n",
    "train_len = int(total_len *2 / 3)\n",
    "train_data = []\n",
    "train_label = []\n",
    "test_data = []\n",
    "test_label = []\n",
    "\n",
    "for i in range(total_len):\n",
    "    data = csv[i][0:4]\n",
    "    label = csv[i][4]\n",
    "    if i < train_len:\n",
    "        train_data.append(data)\n",
    "        train_label.append(label)\n",
    "    else:\n",
    "        test_data.append(data)\n",
    "        test_label.append(label)\n",
    "\n",
    "clf = svm.SVC()\n",
    "clf.fit(train_data, train_label)\n",
    "pre = clf.predict(test_data)\n",
    "\n",
    "ac_score = metrics.accuracy_score(test_label, pre)\n",
    "print(\"정답률:\", ac_score)"
   ]
  },
  {
   "cell_type": "code",
   "execution_count": null,
   "metadata": {
    "collapsed": true
   },
   "outputs": [],
   "source": [
    "# iris-train2\n",
    "import pandas as pd\n",
    "from sklearn import svm, metrics, cross_validation, model_selection\n",
    "\n",
    "csv = pd.read_csv(\"./iris.csv\")\n",
    "\n",
    "csv_data = csv[[\"SepalLength\", \"SepalWidth\", \"PetalLength\", \"PetalWidth\"]]\n",
    "# print(csv_data)\n",
    "csv_label = csv[\"Name\"]\n",
    "# print(csv_label)\n",
    "\n",
    "# train_data, test_data, train_label, test_label = cross_validation.train_test_split(csv_data, csv_label)\n",
    "train_data, test_data, train_label, test_label = model_selection.train_test_split(csv_data, csv_label)\n",
    "\n",
    "clf = svm.SVC()\n",
    "clf.fit(train_data, train_label)\n",
    "pre = clf.predict(test_data)\n",
    "\n",
    "ac_score = metrics.accuracy_score(test_label, pre)\n",
    "print(\"정답률:\", ac_score)"
   ]
  },
  {
   "cell_type": "code",
   "execution_count": null,
   "metadata": {
    "collapsed": true
   },
   "outputs": [],
   "source": [
    "# mnist-to-csv\n",
    "import struct\n",
    "\n",
    "def to_csv(name, maxdata):\n",
    "    lbl_f = open(\"./train-labels.idx1-ubyte\", \"rb\")\n",
    "    img_f = open(\"./train-images.idx3-ubyte\", \"rb\")\n",
    "    csv_f = open(\"./\"+name+\".csv\", \"w\", encoding=\"utf-8\")\n",
    "    \n",
    "    mag, lbl_count = struct.unpack(\">II\", lbl_f.read(8))\n",
    "    mag, img_count = struct.unpack(\">II\", img_f.read(8))\n",
    "    rows, cols = struct.unpack(\">II\", img_f.read(8))\n",
    "    pixels = rows * cols\n",
    "    res = []\n",
    "    for idx in range(lbl_count):\n",
    "        if idx > maxdata: break\n",
    "        label = struct.unpack(\"B\", lbl_f.read(1))[0]\n",
    "        bdata = img_f.read(pixels)\n",
    "        sdata = list(map(lambda n: str(n), bdata))\n",
    "        csv_f.write(str(label)+\",\")\n",
    "        csv_f.write(\",\".join(sdata)+\"\\r\\n\")\n",
    "        if idx < 10:\n",
    "            s = \"P2 28 28 255\\n\"\n",
    "            s += \" \".join(sdata)\n",
    "            iname = \"./{}-{}-{}.pgm\".format(name, idx, label)\n",
    "            with open(iname, \"w\", encoding=\"utf-8\") as f:\n",
    "                f.write(s)\n",
    "    lbl_f.close()\n",
    "    img_f.close()\n",
    "\n",
    "to_csv(\"train-mnist-number\", 1000)\n",
    "to_csv(\"test-mnist-number\", 500)\n",
    "# test1 = struct.unpack(\">I\", b'\\x00\\x00\\x08\\x01')\n",
    "# test2 = struct.unpack(\">I\", b'\\x00\\x00\\xea\\x60')\n",
    "# print(test1,test2)\n",
    "# print(hex(test2[0]))\n",
    "# print(hex(test1[0]))\n",
    "sdata = list(map(lambda n: str(n), b'\\x00\\x00\\x08\\x01'))\n",
    "print(sdata)"
   ]
  },
  {
   "cell_type": "code",
   "execution_count": null,
   "metadata": {
    "collapsed": true
   },
   "outputs": [],
   "source": [
    "# mnist-train\n",
    "from sklearn import model_selection, svm, metrics\n",
    "\n",
    "def load_csv(fname):\n",
    "    labels = []\n",
    "    images = []\n",
    "    with open(fname, \"r\") as f:\n",
    "        for line in f:\n",
    "            cols = line.split(\",\")\n",
    "            if len(cols) < 2: continue\n",
    "            labels.append(int(cols.pop(0)))\n",
    "            vals = list(map(lambda n: int(n) / 256, cols))\n",
    "            images.append(vals)\n",
    "    return {\"labels\":labels, \"images\":images}\n",
    "\n",
    "data = load_csv(\"./train-mnist-number.csv\")\n",
    "test = load_csv(\"./test-mnist-number.csv\")\n",
    "\n",
    "clf = svm.SVC()\n",
    "clf.fit(data[\"images\"], data[\"labels\"])\n",
    "\n",
    "predict = clf.predict(test[\"images\"])\n",
    "\n",
    "ac_score = metrics.accuracy_score(test[\"labels\"], predict)\n",
    "cl_report = metrics.classification_report(test[\"labels\"], predict)\n",
    "print(\"정답률:\", ac_score)\n",
    "print(\"Report:\")\n",
    "print(cl_report)"
   ]
  },
  {
   "cell_type": "code",
   "execution_count": 1,
   "metadata": {},
   "outputs": [
    {
     "name": "stdout",
     "output_type": "stream",
     "text": [
      "정답률: 0.875\n",
      "Report:\n",
      "             precision    recall  f1-score   support\n",
      "\n",
      "         en       0.67      1.00      0.80         2\n",
      "         fr       1.00      1.00      1.00         2\n",
      "         id       1.00      0.50      0.67         2\n",
      "         tl       1.00      1.00      1.00         2\n",
      "\n",
      "avg / total       0.92      0.88      0.87         8\n",
      "\n"
     ]
    }
   ],
   "source": [
    "#lang-train\n",
    "\n",
    "from sklearn import svm, metrics\n",
    "import glob, os.path, re, json\n",
    "\n",
    "def check_freq(fname):\n",
    "    name = os.path.basename(fname)\n",
    "    lang = re.match(r'^[a-z]{2,}', name).group()\n",
    "#     print(lang)\n",
    "    with open(fname, \"r\", encoding=\"utf-8\") as f:\n",
    "        text = f.read()\n",
    "    text = text.lower()\n",
    "    \n",
    "    cnt = [0 for n in range(0,26)]\n",
    "    code_a = ord(\"a\")\n",
    "    code_z = ord(\"z\")\n",
    "    \n",
    "    for ch in text:\n",
    "        n = ord(ch)\n",
    "        if code_a <= n <= code_z:\n",
    "            cnt[n-code_a] += 1\n",
    "    total = sum(cnt)\n",
    "    freq = list(map(lambda n: n/total, cnt))\n",
    "    return (freq, lang)\n",
    "    \n",
    "def load_files(path):\n",
    "    freqs = []\n",
    "    labels = []\n",
    "    file_list = glob.glob(path)\n",
    "#     print(file_list)\n",
    "    for fname in file_list:\n",
    "        r = check_freq(fname)\n",
    "        freqs.append(r[0])\n",
    "        labels.append(r[1])\n",
    "    return {\"freqs\":freqs, \"labels\":labels}\n",
    "\n",
    "data = load_files(\"./lang/train/*.txt\")\n",
    "test = load_files(\"./lang/test/*.txt\")\n",
    "# print(data)\n",
    "with open(\"./lang/freq.json\", \"w\", encoding=\"utf-8\") as fp:\n",
    "    json.dump([data, test], fp)\n",
    "\n",
    "clf = svm.SVC()\n",
    "clf.fit(data[\"freqs\"], data[\"labels\"])\n",
    "\n",
    "predict = clf.predict(test[\"freqs\"])\n",
    "\n",
    "ac_score = metrics.accuracy_score(test[\"labels\"], predict)\n",
    "cl_report = metrics.classification_report(test[\"labels\"], predict)\n",
    "print(\"정답률:\", ac_score)\n",
    "print(\"Report:\")\n",
    "print(cl_report)"
   ]
  },
  {
   "cell_type": "code",
   "execution_count": 3,
   "metadata": {},
   "outputs": [
    {
     "name": "stdout",
     "output_type": "stream",
     "text": [
      "         en        fr        id        tl\n",
      "a  0.078620  0.076462  0.143917  0.215725\n",
      "b  0.017609  0.013802  0.028470  0.022360\n",
      "c  0.036143  0.035956  0.011012  0.009065\n",
      "d  0.038315  0.046670  0.036799  0.015920\n",
      "e  0.128073  0.149690  0.091711  0.031863\n",
      "f  0.016650  0.011862  0.007415  0.003200\n",
      "g  0.027052  0.012418  0.049518  0.086776\n",
      "h  0.032305  0.013495  0.016180  0.017125\n",
      "i  0.078720  0.074776  0.099914  0.083303\n",
      "j  0.002451  0.002720  0.005221  0.001311\n",
      "k  0.007166  0.001889  0.031672  0.027721\n",
      "l  0.047411  0.062862  0.043160  0.048553\n",
      "m  0.024146  0.032823  0.034384  0.034264\n",
      "n  0.062884  0.072571  0.088489  0.125691\n",
      "o  0.074376  0.058002  0.037228  0.048640\n",
      "p  0.019615  0.028457  0.028619  0.031509\n",
      "q  0.003208  0.006397  0.000011  0.000669\n",
      "r  0.076498  0.076141  0.063212  0.024510\n",
      "s  0.073799  0.078303  0.067731  0.052449\n",
      "t  0.081022  0.068285  0.048595  0.051949\n",
      "u  0.028900  0.051444  0.043003  0.029315\n",
      "v  0.013772  0.012087  0.004532  0.002391\n",
      "w  0.014435  0.003060  0.005512  0.010755\n",
      "x  0.001802  0.004164  0.001155  0.000469\n",
      "y  0.014390  0.005075  0.011499  0.023370\n",
      "z  0.000638  0.000586  0.001039  0.001096\n"
     ]
    },
    {
     "data": {
      "image/png": "[encoded data removed]",
      "text/plain": [
       "<Figure size 432x288 with 4 Axes>"
      ]
     },
     "metadata": {},
     "output_type": "display_data"
    }
   ],
   "source": [
    "# lang-plot\n",
    "# import matplotlib\n",
    "# matplotlib.use('TkAgg')\n",
    "# or \n",
    "# $echo \"backend: TkAgg\" >> ~/.matplotlib/matplotlibrc \n",
    "# Jupyter 서버 restart: <menu>Kernel -> Restart\n",
    "# Reference\n",
    "# - https://github.com/dsmbgu8/image_annotate.py/issues/4\n",
    "# - https://stackoverflow.com/questions/29433824/unable-to-import-matplotlib-pyplot-as-plt-in-virtualenv\n",
    "# - https://matplotlib.org/faq/usage_faq.html\n",
    "import matplotlib.pyplot as plt\n",
    "import pandas as pd\n",
    "import json\n",
    "\n",
    "with open(\"./lang/freq.json\", \"r\", encoding=\"utf-8\") as fp:\n",
    "    freq = json.load(fp)\n",
    "    \n",
    "lang_dic = {}\n",
    "for i, lbl in enumerate(freq[0][\"labels\"]):\n",
    "    fq = freq[0][\"freqs\"][i]\n",
    "    if not (lbl in lang_dic):\n",
    "        lang_dic[lbl] = fq\n",
    "        continue\n",
    "#     print(lang_dic)\n",
    "    for idx, v in enumerate(fq):\n",
    "         lang_dic[lbl][idx] = (lang_dic[lbl][idx] + v) /2\n",
    "#     print(lang_dic)\n",
    "\n",
    "asclist = [[chr(n) for n in range(97, 97+26)]]\n",
    "df = pd.DataFrame(lang_dic, index=asclist)\n",
    "print(df)\n",
    "\n",
    "plt.style.use('ggplot')\n",
    "df.plot(kind='bar', subplots=True, ylim=(0,0.15))\n",
    "plt.savefig(\"lang-plot.png\")\n",
    "plt.show()"
   ]
  },
  {
   "cell_type": "code",
   "execution_count": 8,
   "metadata": {},
   "outputs": [
    {
     "name": "stdout",
     "output_type": "stream",
     "text": [
      "OK\n",
      "b'\\x80\\x03csklearn.svm.classes\\nSVC\\nq\\x00)\\x81q\\x01}q\\x02(X\\x17\\x00\\x00\\x00decision_function_shapeq\\x03X\\x03\\x00\\x00\\x00ovrq\\x04X\\x05\\x00\\x00\\x00_implq\\x05X\\x05\\x00\\x00\\x00c_svcq\\x06X\\x06\\x00\\x00\\x00kernelq\\x07X\\x03\\x00\\x00\\x00rbfq\\x08X\\x06\\x00\\x00\\x00degreeq\\tK\\x03X\\x05\\x00\\x00\\x00gammaq\\nX\\x04\\x00\\x00\\x00autoq\\x0bX\\x05\\x00\\x00\\x00coef0q\\x0cG\\x00\\x00\\x00\\x00\\x00\\x00\\x00\\x00X\\x03\\x00\\x00\\x00tolq\\rG?PbM\\xd2\\xf1\\xa9\\xfcX\\x01\\x00\\x00\\x00Cq\\x0eG?\\xf0\\x00\\x00\\x00\\x00\\x00\\x00X\\x02\\x00\\x00\\x00nuq\\x0fG\\x00\\x00\\x00\\x00\\x00\\x00\\x00\\x00X\\x07\\x00\\x00\\x00epsilonq\\x10G\\x00\\x00\\x00\\x00\\x00\\x00\\x00\\x00X\\t\\x00\\x00\\x00shrinkingq\\x11\\x88X\\x0b\\x00\\x00\\x00probabilityq\\x12\\x89X\\n\\x00\\x00\\x00cache_sizeq\\x13K\\xc8X\\x0c\\x00\\x00\\x00class_weightq\\x14NX\\x07\\x00\\x00\\x00verboseq\\x15\\x89X\\x08\\x00\\x00\\x00max_iterq\\x16J\\xff\\xff\\xff\\xffX\\x0c\\x00\\x00\\x00random_stateq\\x17NX\\x07\\x00\\x00\\x00_sparseq\\x18\\x89X\\r\\x00\\x00\\x00class_weight_q\\x19csklearn.externals.joblib.numpy_pickle\\nNumpyArrayWrapper\\nq\\x1a)\\x81q\\x1b}q\\x1c(X\\x08\\x00\\x00\\x00subclassq\\x1dcnumpy\\nndarray\\nq\\x1eX\\x05\\x00\\x00\\x00shapeq\\x1fK\\x04\\x85q X\\x05\\x00\\x00\\x00orderq!h\\x0eX\\x05\\x00\\x00\\x00dtypeq\"cnumpy\\ndtype\\nq#X\\x02\\x00\\x00\\x00f8q$K\\x00K\\x01\\x87q%Rq&(K\\x03X\\x01\\x00\\x00\\x00<q\\'NNNJ\\xff\\xff\\xff\\xffJ\\xff\\xff\\xff\\xffK\\x00tq(bX\\n\\x00\\x00\\x00allow_mmapq)\\x88ub\\x00\\x00\\x00\\x00\\x00\\x00\\xf0?\\x00\\x00\\x00\\x00\\x00\\x00\\xf0?\\x00\\x00\\x00\\x00\\x00\\x00\\xf0?\\x00\\x00\\x00\\x00\\x00\\x00\\xf0?X\\x08\\x00\\x00\\x00classes_q*h\\x1a)\\x81q+}q,(h\\x1dh\\x1eh\\x1fK\\x04\\x85q-h!h\\x0eh\"h#X\\x02\\x00\\x00\\x00U2q.K\\x00K\\x01\\x87q/Rq0(K\\x03h\\'NNNK\\x08K\\x04K\\x08tq1bh)\\x88ube\\x00\\x00\\x00n\\x00\\x00\\x00f\\x00\\x00\\x00r\\x00\\x00\\x00i\\x00\\x00\\x00d\\x00\\x00\\x00t\\x00\\x00\\x00l\\x00\\x00\\x00X\\x06\\x00\\x00\\x00_gammaq2G?\\xa3\\xb1;\\x13\\xb1;\\x14X\\x08\\x00\\x00\\x00support_q3h\\x1a)\\x81q4}q5(h\\x1dh\\x1eh\\x1fK\\x14\\x85q6h!h\\x0eh\"h#X\\x02\\x00\\x00\\x00i4q7K\\x00K\\x01\\x87q8Rq9(K\\x03h\\'NNNJ\\xff\\xff\\xff\\xffJ\\xff\\xff\\xff\\xffK\\x00tq:bh)\\x88ub\\x01\\x00\\x00\\x00\\x02\\x00\\x00\\x00\\x03\\x00\\x00\\x00\\x04\\x00\\x00\\x00\\n\\x00\\x00\\x00\\x05\\x00\\x00\\x00\\x07\\x00\\x00\\x00\\t\\x00\\x00\\x00\\x10\\x00\\x00\\x00\\x13\\x00\\x00\\x00\\x0b\\x00\\x00\\x00\\x0c\\x00\\x00\\x00\\r\\x00\\x00\\x00\\x0e\\x00\\x00\\x00\\x0f\\x00\\x00\\x00\\x00\\x00\\x00\\x00\\x06\\x00\\x00\\x00\\x08\\x00\\x00\\x00\\x11\\x00\\x00\\x00\\x12\\x00\\x00\\x00X\\x10\\x00\\x00\\x00support_vectors_q;h\\x1a)\\x81q<}q=(h\\x1dh\\x1eh\\x1fK\\x14K\\x1a\\x86q>h!h\\x0eh\"h&h)\\x88ub2F*\\xd5\\xf9\\xe4\\xb2?\\xe7\\xd0\\xeb\\x1bU\\xdb\\x94?Fs\\xf4t\\x87\\xd8\\x9f?\\xfd\\x16\\xd9P\\xcdK\\xa4?\\xd1\\xeb\\x1bU\\xdb\\x14\\xc2?\\xe7\\xd0\\xeb\\x1bU\\xdb\\x94?\\xe7\\xd0\\xeb\\x1bU\\xdb\\x94?\\xac\\xc3\\xcd?\\x95\\'\\xad?\\x87^\\xdf\\xa8\\xda\\xa6\\xb0?\\x01\\xdc\\x82\\x13v\\xe9j?h,\\\\\\xde\\x838x?\\xfd\\x16\\xd9P\\xcdK\\xa4?\\x9b\\x8b\\xa9Hh\\x9a\\x9d?Fs\\xf4t\\x87\\xd8\\xaf?}\\xbbh\\x8e\\x9e\\xee\\xb0?#\\x95\\xea|rI\\x93?\\xbd\\xfb\\xf16\\xc2\\xb4<??p\\x85\\x8e\\xdb\\x8e\\xb2?y\\x1baZ\\x0e\\x80\\xae?_\\x10\\xcab\\xedq\\xb8?4\\x84\\xef\\xf8\\xfc\\x90\\x99?\\xbdD\\x11\\xb2d\\xfa\\x85?_\\x10\\xcab\\xedq\\x98?F\\xbc\\x13\\xf0)\\x1ei?y\\x1baZ\\x0e\\x80\\x8e?\\xce|5\\xa9\\x91\\x87E?\\xf2T|\\xf2T|\\xb2?\\x9cMa\\x9cMa\\x9c?\\x9fc\\xb2\\x9ec\\xb2\\x9e?\\x94\\x80E\\x94\\x80E\\xa4?_\\x86\\xfc^\\x86\\xfc\\xbe?\\x91\\xb8.\\x91\\xb8.\\x91?\\x98\\xfa!\\x98\\xfa!\\x98?^\\xd46^\\xd46\\xae?Q)\\xb3P)\\xb3\\xb0?\\x19@\\xb6\\x18@\\xb6X?\\x1b}\\xa4\\x1a}\\xa4\\x8a?\\x97o\\xf9\\x96o\\xf9\\xa6?\\x16Q\\x02\\x16Q\\x02\\x96?\\xdeg\\x05\\xdeg\\x05\\xae?6\\x85q6\\x85q\\xb6?\\x91\\xb8.\\x91\\xb8.\\x91?\\x19@\\xb6\\x18@\\xb68?\\x9e\\x8aO\\x9e\\x8aO\\xae?\\xb3w\\xc6\\xb2w\\xc6\\xb2?8\\xe9\\xfc7\\xe9\\xfc\\xb7?\\x99\\xac\\xe7\\x98\\xac\\xe7\\x98?\\x15\\xc6\\xd9\\x14\\xc6\\xd9t?\\x14\\x14\\x14\\x14\\x14\\x14\\x94?\\x19@\\xb6\\x18@\\xb6x?\\x92j\\xf4\\x91j\\xf4\\x91?\\x1c\\x08\\xcd\\x1b\\x08\\xcd[?e\\x15\\x80\\'\\x99q\\xb3?\\xde\\x1f,x\\xe1K\\x8a?\\x98\\xd2\\xd4\\x9c;f\\xa7?\\x00;\\xef^H\\x9f\\xa7?\\x16Y{\\xbe\\x07\\xf7\\xba?5]m\\x97\\x96\\x0b\\x90?\\xb3\\xe3\\x13\\xb9b\\x9c\\x93?\\xc5\\xfc]3\\x82e\\xa6?{\\xaa\\xc4r<\\xf1\\xb2?\\xed34\\ra\\x86\\\\?\\x91\\xc8P\\xd2\\xfbHv?\\x19^\\xbd\\xa3\\xa7\\x85\\xab?\\x16Y{\\xbe\\x07\\xf7\\x9a?\\x1bL.{o\\xd5\\xb3?\\xc8\\x01\\xa0\\x18\"\\xf4\\xb6?\\xd4\\xfe\\xd6\\x9f\\xc9\\xef\\x90?\\x00\\x00\\x00\\x00\\x00\\x00\\x00\\x004\\xe6\\xb4\\xab\\xb2\\xe3\\xb3?3\\x81\\x8b\\xe8\\x06l\\xaf?\\x86\\xb9\\x8a\"\\x1c\\x9d\\xb4?F\\x88F:\\xee\\x84\\x9a?\\x82\\xb4H=|\\x0e\\x84?\\xbc\\x04i\\x91z\\xf8\\x8c?\\xf1&\\xe7\\xc9\\xc8dE?R\\x85}\\xc1\\x95\\x80\\x94?\\xed34\\ra\\x86<?\\x12cW\\x12cW\\xb2?\\x19`\\xed\\x18`\\xed\\x88?\\x17\\x8a^\\x17\\x8a^\\xa7?\\x11l\\xb6\\x10l\\xb6\\xa0?\\x1f\\xf2\\xbb\\x1e\\xf2\\xbb\\xbe?\\x1e\\xa8\\x06\\x1e\\xa8\\x06\\x8e?\\x1a\\xec\\xc6\\x19\\xec\\xc6\\x99?\\x18\\xd4\\x13\\x18\\xd4\\x13\\x98?\\x18\\x168\\x18\\x168\\xb8?\\x14 e\\x14 ed?\\x1b\\x801\\x1b\\x801[?\\x1d\\x1c-\\x1d\\x1c-\\xad?\\x17\\xc4\\xf1\\x16\\xc4\\xf1\\x96?\\x131U\\x131U\\xb3?\\x14\\xb5\\x9d\\x13\\xb5\\x9d\\xb3?\\x15\\xac>\\x15\\xac>\\x95?\\x1b\\x801\\x1b\\x801[?\\x1cF\\x9e\\x1bF\\x9e\\xab?\\x17\\xfe\\x84\\x16\\xfe\\x84\\xb6?\\x15\\xc5\\xbf\\x14\\xc5\\xbf\\xb4?\\x1e$\\xbe\\x1d$\\xbe\\x9d?\\x13\\x10C\\x13\\x10C\\x93?\\x18X\\\\\\x18X\\\\\\x88?\\x12\\x00!\\x12\\x00!B?\\x12\\x84i\\x12\\x84i\\x92?\\x12\\x00!\\x12\\x00!B?\\x01\\xdfR\\xb7\\xae\\x8c\\xb5?G\\xd2\\x1d%\\xc0c\\x94?\\x9ap\\x9d\\x1eG\"\\x9f?q\\xbf\\x80\\x02\\xba\\xe6\\xa3?9\\xec\\xd7J$\\x89\\xc1?g/e\\xef_\\xd3\\x91?\\x8fQ0\\xdb\\x11\\xfd\\x9f?\\xe5\\xbaG\\xc6\\xe0\\x14\\x9c?\\xe7g<WrJ\\xb3?\\xa6<\\xff\\xf2\\r}e?\\'\\x04(\\x8b\\xfb\\x05\\x84?\\xb6#\\xfa?\\xf0\\xab\\xa5?\\xc6{\\xa3\\\\\\xf7\\xc8\\x98?\\x00\\xc1\\xafV\\xf8h\\xab?*w@@\\xad\\x9c\\xb1?g\\xa0\\x13\\xbf\\x84\\xc1\\x94?Qb98\\x1awv?\\xdb\\xb9}\\xe3a\\x13\\xb7?j\\x13,t6X\\xb2?q\\xbf\\x80\\x02\\xba\\xe6\\xb3?\\x04\\xfa\\xeb/\\xca`\\x9f?\\xe5\\xbaG\\xc6\\xe0\\x14\\x8c?\\xba\\xcd\\xe4\\xe8\\xe6\\x91\\x8c?R\\x80\\xdc\\x98\\xd0\\x9a`?|O\\x9c\\x15\\x14\\xfa\\x85?Q\\xf1\\x8ah\\xf5\\x88C?\\xe0\\xd97e\\xd3\\x95\\xb2?\\xe3\\xbb\\xef\\xff\\x94#\\x90?\\xad\\n8\\xa6he\\xa4?\\xed\\xc5\\xf9\\t\\x9f-\\xaa?WF\\xb1\"6\\x1c\\xc4?\\x14\\xea\\xcc\\xf3\\xbf\\xaf\\x8a?c2s\\xc7\\x01\\xb4\\x8b?\\xed0\\xd6\\xf9t{\\x8d?#w\\xb1c\\xcb\\xeb\\xb5?c\\xf1\\xdd\\xf7\\x7f\\xcaq?<y|\\xcd\\xb6\\x7f^?\\x9eS\\x0c\\x16\\t\\xc5\\xaf?\\x01\\xc3\\xbfn\\x85\\xbc\\x9d?\\xbb\\x02\\xf9\\x05J\\xef\\xb2?7\\xdfS\\xb8\\x87\\xc8\\xac?El8(\\x93\\x04\\x98?<\\xa3\\xc3\\xed\\n\\xe4w?\\x9b\\xc5\\xe2\\xbb\\xef\\xff\\xb4?(;!\\x99N\\x07\\xb1?w/9,\\xe8B\\xaf?\\x9e\\x12wF\\x87\\xdb\\xa5?c\\x9dO\\xb7\\xd7\\x01\\x8f?c\\xc7\\x96\\xd7+fH?O\\xca\\xd0rE\\xd7t?(\\xa6\\xfd\\x88$Ut?\\xed\\x84d:\\x1dD`?\\x8a\\xf2\\x96\\xbf.(\\xb4?0\\xd1\\xca\\xdd\\x8ag\\x85?fE\\xad\\x03\\xd8\\x12\\xa3?\\xb4\\xf0*6\\xe5G\\xab?\\xef\\x97\\x82\\x01+C\\xc3?\\xcf^TA\\x87\\x9c\\x90?h<\\xb8~\\x02\\xee\\x85?\\xc4\\xd6\\x1b\\x88E\\xc7\\x8f?Z\\xb9[\\xf1\\xac\\xc2\\xb1?\\xe5\\x13c\\xa1\\xd2\\xe8b?\\x04g\\xad\\x1d\\xf4\\xcep?C\\x98\\xc3G\\x81\\xfd\\xb1?5\"u\\x98\\xeaq\\x9b?\\xc7,\\xa2n\\x91{\\xb2?\\xd3Cu\\xb2\\x06.\\xa9?a\\x01\\x11\\'7\\xa8\\x9a?\\x16D\\xa9\\xea~)x?\\x8e\\x0b\\xf0\\xa8\\xa98\\xb3?\\xa0f_\\xc9\\xbfU\\xb2?;f\\x11u\\x8b\\xdc\\xb3?\\xcetW\\xa4\\x1ba\\xab?z\\x19\\xb4K\\x8dH\\x8d?\\xa6m\\xce\\xa8\\x8f\\x1cG?0FI\\xac@\\x05p?\\x80\\xdf\\xdc\\xd4\\xa2\\xf0m?g\\xc79\\xb0LPK?^Cy\\r\\xe55\\xb4?\\xddxA\\xb0\\xd2\\x8d\\x87?\\t!\\xf1P\\x91\\x10\\xa2?\\xc5\\xa8\\xe1oS\\x8c\\xaa?m%\\xb5\\x95\\xd4V\\xc2?\\x07\\x8c\\x81\\x96l\\xc0\\x88?\\xf5H\\xa1\\xf0Q\\x8f\\x94?`?\\x81\\xfd\\x04\\xf6\\x93?\\x15p\\xb9&L\\x01\\xb7?\\x00\\xff\\x01\\xfc\\x07\\xf0o?\\x9a2\\x01d\\x9e)c?\\x14\\xd7Q\\\\Gq\\xad?\\x9c\\x95\\xa1\\x89\\xb9Y\\x99?\\\\Gq\\x1d\\xc5u\\xb4?\\xa5\\xe8aoT\\x8a\\xae?@\\x7f\\x01\\xfd\\x05\\xf4\\x97?\\x9a2\\x01d\\x9e)s?\\x94>\\xe9\\x93>\\xe9\\xb3?9(I\\x07\\x8b\\x83\\xb2?~\\x03\\xf9\\r\\xe47\\xb0?Lg1\\x9d\\xc5t\\xa6?\\xe7\\xcb\\x01\\x96m\\xbe\\x8c?\\xcd\\x98\\x010\\xd3\\x8c9?Z\\xb2\\x01c\\xa0%k?\\xedX\\x810\\xd2\\x8eu?\\x9a2\\x01d\\x9e)S?\\x8a\\x8b\\x94\\xd3\\x8c\\x9d\\xb2?\\xb9\\xdb\\xcet\\xfe\\xc1\\x8a?\\xca\\xad\\xe7|\\x91!\\xa2?\\x04\\xf3}J\\xe2\\x08\\xa7?`\\xa3wE\\xe6K\\xc3?\\xe7\\x8b\\x0c\\x910\\x8d\\x85?W\\xc3\\xb7f/\\xac\\x85?X:k\\xc1\\x1c\\x9c\\x87?\\x16\\xb3\\xfd\\x07PH\\xb2?H-pD\\x12\\xb3h?\\x86s\\xf5\\x82awP?J\\x92\\x8aT\\xda\\x82\\xae?\\x0b\\xbe\\xa1\\xdbp\\x85\\xa5?S\\xab\\x18\\x16\\x04\\x86\\xb3?\\xab\\xbc:\\xad\\xce\\xb8\\xaf?5\\xcd\\xf3\\x01e\\x1a\\xa0?\\t\\x82\\xd0\\xf5\\xfa\\x1e{?\\x8d\\x17\\xe4{\\xa2\\xb0\\xb3?\\xdd\\xbd\\xe5\\xfc\\x9e\\r\\xb4?\\xe8\\xb2A)~\\xd0\\xb0?\\xf5\\\\6(\\xc5\\x0f\\xaa?\\x19\\x8f\\xcbr\\x05\\x08\\x8a?\\x07\\x1d\\xb6\\xe52Oe?\\x87a\\\\8<Wt?\\xc7\\x83\\xaf\\xe1@\\xdbs?\\np7\\xab\\xd5\\xfe\\x1e?\\xeb\\xc9\\xed}\\x16\\xf2\\xb3?\\x17\\x1a\\xe4\\x8f\\x17\\x8e\\x8e?%k\\xfa\\x98\\xb2M\\xa2?4!\\x9d\\x18\\x04\\xf4\\xa6?\\xdfi\\xbcE\\x85*\\xc3?\\x89\\xd5\\xde\\xaeQ\"\\x88?^\\xfb\\xbd\\xe3*\\x8b\\x87?\\xc3H\\xdd6\\xe1\\xd4\\x89?\\xdf\\x9ai\\x15\\xc3n\\xb2?\\xe6#Ih\\xf8ja?\\xf7\\x04\\xee\\xd8.\\xe2_?\\x8e\\x05\\xae}\\x95\\xa4\\xb0?\\xd7?\\x98U\\x9a\\x1b\\xa0?\\x13h\\xc3\\x874\\x9a\\xb1?\\xf2\\x13vm\\x1b\\'\\xad?\\x05\\x17\\xad~\\x99\\xda\\x9d?\\xe2z\\x98\\xb0\\xb2\\x0b|?\\xf1\\x9d\\xa0&A\"\\xb3?XU\\x19\\xce\\x0c\\x04\\xb5?\\x84\\x12u\\xd6J\\x10\\xb2?\\x86=w\\xc7/\\xe1\\xab?\\xdfl[\\x82\\xb6\\xc5\\x85?;\\xd8\\x8a\\xfeE\\x99r?\\xf7\\x04\\xee\\xd8.\\xe2o?$\\x88\\xbf[\\x9b\\xd8u?\\xa2P\\xacB\\xe1\\xb3>?WN\\xbf\\x13\\xfc\\x0b\\xc7?\\xa4\\xe4\\xbd`\\xa4G\\x9a?\\xcfAa\\x9dd\\xe3\\x80?\\xc1\\xbfp\\x99\\x89\\x9a\\xa7?6\\xd6\\x815\\xa5e\\xb5?\\\\\\xb1\\x02.\\xb0\\xf1t?\\xf5T\\xe1,Tx\\xa1?\\xa1\\xb6\\ro\\x8fS\\x95?L\\x01b8\\xc0\\xb4\\xb6?\\xce\\n\\x86\\x80\\xec\\x8c\\x82?&\\xb5\\xbe\\x97\\x7fd\\xa2?z\\x8c\\xb5f\\x95D\\xa2?\\xc0ou\\x0f.e\\xa1?pn,\\xf7\\xda\\x93\\xb9?~\\xb8\\x1dd\\xd1\\xd3\\xa1?\"\\xdb\\x99\\x18xo\\x9e?\\xe0\\xb1\\xfbJyg\\'?m\\xea\\xc1\\xbeL\\x1f\\xad?\\xb2&\\xa8\\x1c\\xa4\\xd7\\xab?\\xbc\\\\-\\x7f\\xd5\\xb4\\xa9?\\xe2\\x8f\\xb0\\xb22&\\xa6?\\'\\x05\\xba!\\xdb\\x99h?\\x97\\xf0\\x86:\\'\\x88y?\\xcd\\xd3\\xaact64?\\x08\\xdcSSsv\\x8a?\\xc4d\\x02\\xf0\\xf1\\x9dR?\\x88\\xd3\\x04\\x1f\\x82\\xa8\\xc5?Q\\x9b\\x15\\xc6\\x8b\\xe6\\x99?\\x19ru\\x9a\\xd7\\xafr?\\x02\\x92#1k\\x97\\xa0?}\\xa0\\x80\\xb7d\\xd8\\xb1?\\xe1\\x04\\x04\\xc6\\xaf6\\x80?\\xb5P\\xcd\\xbes\\x15\\xa7?G\\x16g\\xfeD\\xc7\\x8e?\\xc0\\n\\xfe\\x01\\xec\\xeb\\xb8?h\\xb1\\xdf \\xb64{?\\x9fp{U\\x07\\xfd\\xa4?gSH\\xf5\\xef\\xd5\\xa8?;\\'\\xb4?\\x9b9\\xa6?\\x0e#?\\xc4N\\xc6\\xb6?\\xe2n\\x08\\xbd\\x12\\xa5\\xad?h\\xd9\\xfeZ\\xbe]\\x9e?\\x00\\x00\\x00\\x00\\x00\\x00\\x00\\x00h\\x1d\\xd0\\x032\\xa0\\xa9?s\\xbcDN\\xcb\\xdb\\xab?s^\\xad\"\\x05}\\xa9?\\xb5\\x1aU\\xcd\\xb5\\xdf\\xa7?Ev\\xea\\x15$#b?\\xa0\\x1eQ\\xf5\\xdd\\xad]?\\xaa7\\x0f\\xda\\xa8a*?g\\x89\\xc0\\xe6\\xad\\x0b\\x88?rz_\\x91p\\x96A?0\\x1e\\x95\\x05\\xbf\\xb3\\xc6?\\xfe{\\xcbn+\\xe6\\x97?\\xa4\\xc7h\\xad\\xf8\\x87v?\\x127\\x17\\xf4\\xdf\\xd5\\xa3?\\x18\\x1a\\x1a\\xd7%j\\xb5?\\xa5bSZ\\xc4\\xfd\\x89?\\xba\\xb8\\x89\\x8cDc\\xa9?\\xc5\\x04\\xf2\\xc9y\\x1c\\x93?\\xf0\\xa2kYRO\\xb6?4\\xe0J\\xc4\\x8fA~?(\\xe4o\\xa4l-\\xa4?\\xd3\\x99\\x89\\xb0\\x93/\\xa2?@\\xe8\\xea\\xd2\\x05w\\xa5?\\xda\\x90\\xfdU\\x91m\\xb9?\\xafl!O\\x0f\\xaa\\x9f?\\xde\\xd9,\\xffu\\xc7\\x9e?\\x00\\x00\\x00\\x00\\x00\\x00\\x00\\x00\\xc1\\xd0JV\\xb7\\xa7\\xaa?\\x87\\x9d9\\xe0\\xc4a\\xa8?,-\\x9fMQ\\x87\\xa9?\\x00\\xd3\\xed\\xec7\\xd8\\xa8?\\xe0Q\\x9c\\xa1\\xf7\\xbfY?85?\\\\\\xc7\\xbcp?@b\\x88[\\\\\\xe6.?\\xedn\\xc4\\xe5\\x8f\\xda\\x8d?@b\\x88[\\\\\\xe6.?c\\x8c1\\xc6\\x18\\xe3\\xc2?J)\\xa5\\x94RJ\\x99?\\xd7Zk\\xad\\xb5\\xd6\\x82?2\\xc6\\x18c\\x8c1\\xa4?\\xe7\\x9cs\\xce9\\xe7\\xb7?\\xb6\\xd6Zk\\xad\\xb5\\x86?[k\\xad\\xb5\\xd6Z\\xa1?\\xf8\\xde{\\xef\\xbd\\xf7\\x92?\\xad\\xb5\\xd6Zk\\xad\\xb9?\\xad\\xb5\\xd6Zk\\xadu?k\\xad\\xb5\\xd6Zk\\xa3?\\x08!\\x84\\x10B\\x08\\xa3?\\xad\\xb5\\xd6Zk\\xad\\xa3?\\xad\\xb5\\xd6Zk\\xad\\xb5?2\\xc6\\x18c\\x8c1\\xa2?\\xce9\\xe7\\x9cs\\xce\\xa1?\\x00\\x00\\x00\\x00\\x00\\x00\\x00\\x00\\xdf{\\xef\\xbd\\xf7\\xde\\xa7?\\xd7Zk\\xad\\xb5\\xd6\\xb4?\\x00\\x00\\x00\\x00\\x00\\x00\\xaa?\\xc6\\x18c\\x8c1\\xc6\\xa4?\\x84\\x10B\\x08!\\x84\\x80?\\xa5\\x94RJ)\\xa5t?\\xb6\\xd6Zk\\xad\\xb5V?\\xdf{\\xef\\xbd\\xf7\\xde\\x8b?\\xa5\\x94RJ)\\xa5D?2HF\\xcf\\xb1\"\\xc0?\\x8b\\xbd\\x1e\\x89\\xfb\\x94\\xa0?L\\xd0yC\\xa9\\x97\\x8d?|7{V6\\x9a\\xa1?\\x13\\x8d\\x02\\xf4\\xd1\\xbe\\xb8?\\xf1\\x92\\x80p\"^r?<J\\xd6\\x10\\xe4\\x9c\\xae?[V\\x1dvn\\x92\\x8c?\\xf5\\x80\\xbb\\x8eG\\xc9\\xba?\\x0f\\x9f\\xc7\\xd5\\xacSp?\\x88\\xe8\\x07\\x0e\\xbe\\x82\\x99?\\x13\\x8d\\x02\\xf4\\xd1\\xbe\\xa8?D\\r(\\xaaF\\x1a\\x9e?\\xfb\\xcc\\xef\\x98\\x17\\x11\\xb6?f\\xee\\x85\\x8a\\x0e\"\\xa3?\\x88\\xe8\\x07\\x0e\\xbe\\x82\\x99?\\x00\\x00\\x00\\x00\\x00\\x00\\x00\\x00^+4\\xf1\\xab\\xa4\\xb3?\\xba\\xc6&\\xb0\\xdd\\xba\\xb1?\\x9e1\\xfd\\xd9\\xe5\\xfa\\xa7?@\\x1f\\xed\\x8b!\\xaf\\xa5?\\x0f\\x9f\\xc7\\xd5\\xacSp?ybd\\xdb\\xf8\\x87z?\\x97n\\xab@\\x83}X?\\xe2\\x0c\\xdd=]c\\x83?\\x97n\\xab@\\x83}X?\\xa6\\xdd\\xc9,>\\xe7\\xc9?\\x13\\x19\\xfb\\x90\\xa3F\\x97?\\xa7\\xf9[p\\n\\x08\\x94?\\x0f\\xa7\\xad\\x8c1\\xf9\\xa2?\\x08\\x14\\xd8\\x03)o\\xb0?\\xea\\x06tR\\xfa\\xb2w?\\x82)\\xe5:\\x8e\\xed\\xa0?\\xbb\\xb2\\xdc\\n$\\xa6{?Am\\x92\\xd8yS\\xb3?\\xfa\\x1dj\\xed\\\\/c?\\xc2E\\xb2\\x93,0\\x8e?\\xbe\\xd3d\\x8f\\xba\\xe2\\xa9?O\\x93=\\xea\\x8ag\\x98?\\xb9\\x91T\\x86\\x8di\\xbd?\\x87\\x03\\x94\\xc1\\xddP\\xb1?\\x8d^E\\xc3M\\x99\\x9f?\\x15j\\xc0\\x10\\x7fW]?\\xeeH\\x84[\\',\\xa4?\\xf3\\x8a\\x94dT\\xa5\\xb0?F\\xdf\\xdf\\xdc\\xeb\\xa0\\xa7?h\\x8e\\xce\\x8d\\xd1~\\x9c?\\x18[\\x0b\\x9a\\xd0\\xbfs?\\xea\\x06tR\\xfa\\xb2w?\\x9du;^\\xb0\\x15;?Y\\x17^\\xfc\\xe4Y\\xa1?%\\x81\\xb6\\xab\\xe1\\xd3h?\\x8a\"\\xc5\\x06cg\\xcd?\\x9b\\x08\\xf3\\x16\\x88\\x92\\x95?\\x8f\\xe7\\xd2\\xbe\\x87\\xa7d?\\xd7\\xad\\x93\\xcf\\x89)\\x8a?\\xd1J,r\\xcb\\x85\\x9e?\\xf1\\x94\\x82\\xe2\\x06\\\\2?\\xb3J3\\xc7\\x88h\\xb7?O>\\'\\xa6h\\x10\\x87?\\x8c\\x88v\\xc1\\xe6\\x03\\xb2?\\x82!\\x04\\x04\\x0b`]?s~\\xde\\xfb\\xfb\\xf4\\x9f?\\xcb\\x8csw\\x89>\\xa9?\\x8c\\x88v\\xc1\\xe6\\x03\\xa2??\\xef\\xfd}\\xfaO\\xc1?\\x00\\x15\\xff7\\xa8\\xea\\xa5?JAq\\x03.\\t\\xa0?\\x82!\\x04\\x04\\x0b`\\r?i\\xdf\\xc3S\\n\\x8a\\x9b?\\xa6h\\x10\\x17\\x81=\\xa8?\\xd1J,r\\xcb\\x85\\xae?R\\x81/\\xae~\\xd0\\xa1?\\xe5sb\\x8a\\x06qQ?`\\x1d\\x00\\xf9\\xaaB\\x8d?\\x82!\\x04\\x04\\x0b`\\r?\\t\\xd7\\xc2\\x92\\x072\\x94?\\x82!\\x04\\x04\\x0b`\\r?\\x07?\\xba\\x06?\\xba\\xc6?\\x17\\x8a^\\x17\\x8a^\\x97?\\x13sy\\x13sy\\x93?\\x16\\x9bN\\x16\\x9bN\\x96?\\xc1\\xa0\\x9e\\xc0\\xa0\\x9e\\xb0?\\x14\\xbd.\\x14\\xbd.t?\\xf1\\xed \\xf1\\xed \\xb1?\\x13sy\\x13sy\\x93?sy\\x13sy\\x13\\xb3?\\x1f\\xb8(\\x1f\\xb8(_?\\x95Y\\x11\\x95Y\\x11\\x95?\\xf6N\\xbb\\xf5N\\xbb\\xa5?\\x13\\xce\\x1e\\x13\\xce\\x1e\\xa3?\\x8d\\x86\\xec\\x8c\\x86\\xec\\xbc?\\x1d5\\xae\\x1c5\\xae\\xac?^\\xcd\\xd4]\\xcd\\xd4\\x9d?\\x1c\\x90S\\x1c\\x90S<?\\xf8\\x87\\x80\\xf7\\x87\\x80\\xa7?^r/^r/\\xae?\\\\\\x94\\x0f\\\\\\x94\\x0f\\xac?\\x9d\\xe2\\x80\\x9c\\xe2\\x80\\x9c?\\x15\\x07\\xe4\\x14\\x07\\xe4t?\\x91\\x9d\\xd1\\x90\\x9d\\xd1\\x80?\\x1c\\x90S\\x1c\\x90SL?\\x98\\x81\\xe6\\x97\\x81\\xe6\\x97?\\x16\\xf6\\xf3\\x15\\xf6\\xf3e?\\xafN\\x8f\\x89W(\\xcc?\\x08\\x1e\\x901<Y\\x92?G\\x15\\x8c;\\x8eot?Z\\x11\\xd4\\x0e\\xf0\\xa8\\x8c?}\\xfcD\\xaa\\xff\\x9c\\x97?\\xd0V\\xc3\\nVh]?\\x1b\\x12\\xdd2{\\x03\\xb7?K&\\xfda\\x16J\\x91?<Axyu\\xcc\\xb5?{\\xa7\\xa9\\xd8\\x8c\\xedF?\\x13\\x83n\\x9e\\x8f\\xf1\\xa1?I\\xe1W4\\xe9\\xb8\\xa7?\\x91qf\\xb23\\x1e\\xa6?\\xe4^X\\xcb\\xae\\x8c\\xc0?\\x01QI\\xb6\\x9eS\\xa9?\\xb97k_<\\x88\\x9d?\\x04\\xe9\\xe0\\xa7T\\xe6/?f\\xdd\\xec\\xfe\\xe5\\xbc\\x97?i\\xfeS\\xc9\\xb3\\xb5\\xab?\\xd3\\x9bh8\\x83\\xf9\\xa6?3\\xb2\\t\\xe5\\x89\\xba\\xa0?\\xeb\\x98+\\x8e\\'\\xefD?\\x14\\xd8\\tp\\x02\\xa1\\x82?\\xa3\\x91\\xec\\xe8\\xf4\\xef3?\\xb8\\xe2\\xcf\\x8d\\xc9\\xd8\\x9c?\\xa3\\x91\\xec\\xe8\\xf4\\xef#?\\x8f\\xfe\\xc8\\x846\\x8d\\xcc?\\'o\\xfdT\\xce+\\x99?\\xdf\\x04L\\xc1\\x83\\xa1\\x80?\\xf3\\xadX\\xed\\x13\\xf8\\x8a?\\xbdl\\xea\\x7f\\xea\\xcb\\x98?\\xbf\\xec\\xb3\\x85Y\\xc4l?\\xd5K\\x03\\x10\\xf5\\xa7\\xb8?\\xc8\\x15\\xd1\\x94\\xbe@\\x93?\\xbb|L\\x1c\\xa5P\\xb6?K\\x87(\\x9c\\xd6\\xf9T?$\\xcc\\xfc\\xceD\\xae\\x9b?\\xe9\\'\\xa9XZ\\x08\\xaa?\\xf6-\"\\xf3\\x82\\xf0\\x9e?oo\\x9a\\x02\\xd1H\\xc0?VmJ\\xf2\\xab\\xe7\\xa6?,\\x95\\xa7\\x1c\\x8e,\\xa1?\\xbf\\xec\\xb3\\x85Y\\xc4L?\\xe4\\'\\x16M|\\x17\\x92?1\\x95:(l\\x1d\\xa9?P\\'I\\xe6\\x98\\xec\\xab?{\\x82\\x95\\xfd\\xec*\\x9c?\\xe5\\xe7\\xfa\\xcf\\xb3\\x13d?\\x01\\xd7\\x08\\x08We\\x89?p\\x9fS\\xe3\\xde\\xc7@?\\xe1\\x84\\x15\\xc7\\xf2\\x99\\x94?\\xb4\\trkKaQ?X\\n\\x00\\x00\\x00n_support_q?h\\x1a)\\x81q@}qA(h\\x1dh\\x1eh\\x1fK\\x04\\x85qBh!h\\x0eh\"h9h)\\x88ub\\x05\\x00\\x00\\x00\\x05\\x00\\x00\\x00\\x05\\x00\\x00\\x00\\x05\\x00\\x00\\x00X\\n\\x00\\x00\\x00dual_coef_qCh\\x1a)\\x81qD}qE(h\\x1dh\\x1eh\\x1fK\\x03K\\x14\\x86qFh!h\\x0eh\"h&h)\\x88ub\\x00\\x00\\x00\\x00\\x00\\x00\\xf0?\\x00\\x00\\x00\\x00\\x00\\x00\\xf0?\\x00\\x00\\x00\\x00\\x00\\x00\\xf0?\\x00\\x00\\x00\\x00\\x00\\x00\\xf0?\\x00\\x00\\x00\\x00\\x00\\x00\\xf0?\\x00\\x00\\x00\\x00\\x00\\x00\\xf0\\xbf\\x00\\x00\\x00\\x00\\x00\\x00\\xf0\\xbf\\x00\\x00\\x00\\x00\\x00\\x00\\xf0\\xbf\\x00\\x00\\x00\\x00\\x00\\x00\\xf0\\xbf\\x00\\x00\\x00\\x00\\x00\\x00\\xf0\\xbf\\x00\\x00\\x00\\x00\\x00\\x00\\xf0\\xbf\\x00\\x00\\x00\\x00\\x00\\x00\\xf0\\xbf\\x00\\x00\\x00\\x00\\x00\\x00\\xf0\\xbf\\x00\\x00\\x00\\x00\\x00\\x00\\xf0\\xbf\\x00\\x00\\x00\\x00\\x00\\x00\\xf0\\xbf\\x00\\x00\\x00\\x00\\x00\\x00\\xf0\\xbf\\x00\\x00\\x00\\x00\\x00\\x00\\xf0\\xbf\\x00\\x00\\x00\\x00\\x00\\x00\\xf0\\xbf\\x00\\x00\\x00\\x00\\x00\\x00\\xf0\\xbf\\x00\\x00\\x00\\x00\\x00\\x00\\xf0\\xbf\\x00\\x00\\x00\\x00\\x00\\x00\\xf0?\\x00\\x00\\x00\\x00\\x00\\x00\\xf0?\\x00\\x00\\x00\\x00\\x00\\x00\\xf0?\\x00\\x00\\x00\\x00\\x00\\x00\\xf0?\\x00\\x00\\x00\\x00\\x00\\x00\\xf0?\\x00\\x00\\x00\\x00\\x00\\x00\\xf0?\\x00\\x00\\x00\\x00\\x00\\x00\\xf0?\\x00\\x00\\x00\\x00\\x00\\x00\\xf0?\\x00\\x00\\x00\\x00\\x00\\x00\\xf0?\\x00\\x00\\x00\\x00\\x00\\x00\\xf0?\\x00\\x00\\x00\\x00\\x00\\x00\\xf0\\xbf\\x00\\x00\\x00\\x00\\x00\\x00\\xf0\\xbf\\x00\\x00\\x00\\x00\\x00\\x00\\xf0\\xbf\\x00\\x00\\x00\\x00\\x00\\x00\\xf0\\xbf\\x00\\x00\\x00\\x00\\x00\\x00\\xf0\\xbf\\x00\\x00\\x00\\x00\\x00\\x00\\xf0\\xbf\\x00\\x00\\x00\\x00\\x00\\x00\\xf0\\xbf\\x00\\x00\\x00\\x00\\x00\\x00\\xf0\\xbf\\x00\\x00\\x00\\x00\\x00\\x00\\xf0\\xbf\\x00\\x00\\x00\\x00\\x00\\x00\\xf0\\xbf\\x00\\x00\\x00\\x00\\x00\\x00\\xf0?\\x00\\x00\\x00\\x00\\x00\\x00\\xf0?\\x00\\x00\\x00\\x00\\x00\\x00\\xf0?\\x00\\x00\\x00\\x00\\x00\\x00\\xf0?\\x00\\x00\\x00\\x00\\x00\\x00\\xf0?\\x00\\x00\\x00\\x00\\x00\\x00\\xf0?\\x00\\x00\\x00\\x00\\x00\\x00\\xf0?\\x00\\x00\\x00\\x00\\x00\\x00\\xf0?\\x00\\x00\\x00\\x00\\x00\\x00\\xf0?\\x00\\x00\\x00\\x00\\x00\\x00\\xf0?\\x00\\x00\\x00\\x00\\x00\\x00\\xf0?\\x00\\x00\\x00\\x00\\x00\\x00\\xf0?\\x00\\x00\\x00\\x00\\x00\\x00\\xf0?\\x00\\x00\\x00\\x00\\x00\\x00\\xf0?\\x00\\x00\\x00\\x00\\x00\\x00\\xf0?\\x00\\x00\\x00\\x00\\x00\\x00\\xf0\\xbf\\x00\\x00\\x00\\x00\\x00\\x00\\xf0\\xbf\\x00\\x00\\x00\\x00\\x00\\x00\\xf0\\xbf\\x00\\x00\\x00\\x00\\x00\\x00\\xf0\\xbf\\x00\\x00\\x00\\x00\\x00\\x00\\xf0\\xbfX\\n\\x00\\x00\\x00intercept_qGh\\x1a)\\x81qH}qI(h\\x1dh\\x1eh\\x1fK\\x06\\x85qJh!h\\x0eh\"h&h)\\x88ub\\x00\\x00\\x00\\x00\\x00\\x8c\\x07\\xbf\\x00\\x00\\x00\\x00\\x00j/?\\x00\\x00\\x00\\x00\\xc0\\xb0A?\\x00\\x00\\x00\\x00\\x00\\xb5(?\\x00\\x00\\x00\\x00\\x00\\xe9C?\\x00\\x00\\x00\\x00\\x00\\x7f \\xbfX\\x06\\x00\\x00\\x00probA_qKh\\x1a)\\x81qL}qM(h\\x1dh\\x1eh\\x1fK\\x00\\x85qNh!h\\x0eh\"h&h)\\x88ubX\\x06\\x00\\x00\\x00probB_qOh\\x1a)\\x81qP}qQ(h\\x1dh\\x1eh\\x1fK\\x00\\x85qRh!h\\x0eh\"h&h)\\x88ubX\\x0b\\x00\\x00\\x00fit_status_qSK\\x00X\\n\\x00\\x00\\x00shape_fit_qTK\\x14K\\x1a\\x86qUX\\x0b\\x00\\x00\\x00_intercept_qVh\\x1a)\\x81qW}qX(h\\x1dh\\x1eh\\x1fK\\x06\\x85qYh!h\\x0eh\"h&h)\\x88ub\\x00\\x00\\x00\\x00\\x00\\x8c\\x07\\xbf\\x00\\x00\\x00\\x00\\x00j/?\\x00\\x00\\x00\\x00\\xc0\\xb0A?\\x00\\x00\\x00\\x00\\x00\\xb5(?\\x00\\x00\\x00\\x00\\x00\\xe9C?\\x00\\x00\\x00\\x00\\x00\\x7f \\xbfX\\x0b\\x00\\x00\\x00_dual_coef_qZh\\x1a)\\x81q[}q\\\\(h\\x1dh\\x1eh\\x1fK\\x03K\\x14\\x86q]h!h\\x0eh\"h&h)\\x88ub\\x00\\x00\\x00\\x00\\x00\\x00\\xf0?\\x00\\x00\\x00\\x00\\x00\\x00\\xf0?\\x00\\x00\\x00\\x00\\x00\\x00\\xf0?\\x00\\x00\\x00\\x00\\x00\\x00\\xf0?\\x00\\x00\\x00\\x00\\x00\\x00\\xf0?\\x00\\x00\\x00\\x00\\x00\\x00\\xf0\\xbf\\x00\\x00\\x00\\x00\\x00\\x00\\xf0\\xbf\\x00\\x00\\x00\\x00\\x00\\x00\\xf0\\xbf\\x00\\x00\\x00\\x00\\x00\\x00\\xf0\\xbf\\x00\\x00\\x00\\x00\\x00\\x00\\xf0\\xbf\\x00\\x00\\x00\\x00\\x00\\x00\\xf0\\xbf\\x00\\x00\\x00\\x00\\x00\\x00\\xf0\\xbf\\x00\\x00\\x00\\x00\\x00\\x00\\xf0\\xbf\\x00\\x00\\x00\\x00\\x00\\x00\\xf0\\xbf\\x00\\x00\\x00\\x00\\x00\\x00\\xf0\\xbf\\x00\\x00\\x00\\x00\\x00\\x00\\xf0\\xbf\\x00\\x00\\x00\\x00\\x00\\x00\\xf0\\xbf\\x00\\x00\\x00\\x00\\x00\\x00\\xf0\\xbf\\x00\\x00\\x00\\x00\\x00\\x00\\xf0\\xbf\\x00\\x00\\x00\\x00\\x00\\x00\\xf0\\xbf\\x00\\x00\\x00\\x00\\x00\\x00\\xf0?\\x00\\x00\\x00\\x00\\x00\\x00\\xf0?\\x00\\x00\\x00\\x00\\x00\\x00\\xf0?\\x00\\x00\\x00\\x00\\x00\\x00\\xf0?\\x00\\x00\\x00\\x00\\x00\\x00\\xf0?\\x00\\x00\\x00\\x00\\x00\\x00\\xf0?\\x00\\x00\\x00\\x00\\x00\\x00\\xf0?\\x00\\x00\\x00\\x00\\x00\\x00\\xf0?\\x00\\x00\\x00\\x00\\x00\\x00\\xf0?\\x00\\x00\\x00\\x00\\x00\\x00\\xf0?\\x00\\x00\\x00\\x00\\x00\\x00\\xf0\\xbf\\x00\\x00\\x00\\x00\\x00\\x00\\xf0\\xbf\\x00\\x00\\x00\\x00\\x00\\x00\\xf0\\xbf\\x00\\x00\\x00\\x00\\x00\\x00\\xf0\\xbf\\x00\\x00\\x00\\x00\\x00\\x00\\xf0\\xbf\\x00\\x00\\x00\\x00\\x00\\x00\\xf0\\xbf\\x00\\x00\\x00\\x00\\x00\\x00\\xf0\\xbf\\x00\\x00\\x00\\x00\\x00\\x00\\xf0\\xbf\\x00\\x00\\x00\\x00\\x00\\x00\\xf0\\xbf\\x00\\x00\\x00\\x00\\x00\\x00\\xf0\\xbf\\x00\\x00\\x00\\x00\\x00\\x00\\xf0?\\x00\\x00\\x00\\x00\\x00\\x00\\xf0?\\x00\\x00\\x00\\x00\\x00\\x00\\xf0?\\x00\\x00\\x00\\x00\\x00\\x00\\xf0?\\x00\\x00\\x00\\x00\\x00\\x00\\xf0?\\x00\\x00\\x00\\x00\\x00\\x00\\xf0?\\x00\\x00\\x00\\x00\\x00\\x00\\xf0?\\x00\\x00\\x00\\x00\\x00\\x00\\xf0?\\x00\\x00\\x00\\x00\\x00\\x00\\xf0?\\x00\\x00\\x00\\x00\\x00\\x00\\xf0?\\x00\\x00\\x00\\x00\\x00\\x00\\xf0?\\x00\\x00\\x00\\x00\\x00\\x00\\xf0?\\x00\\x00\\x00\\x00\\x00\\x00\\xf0?\\x00\\x00\\x00\\x00\\x00\\x00\\xf0?\\x00\\x00\\x00\\x00\\x00\\x00\\xf0?\\x00\\x00\\x00\\x00\\x00\\x00\\xf0\\xbf\\x00\\x00\\x00\\x00\\x00\\x00\\xf0\\xbf\\x00\\x00\\x00\\x00\\x00\\x00\\xf0\\xbf\\x00\\x00\\x00\\x00\\x00\\x00\\xf0\\xbf\\x00\\x00\\x00\\x00\\x00\\x00\\xf0\\xbfX\\x10\\x00\\x00\\x00_sklearn_versionq^X\\x06\\x00\\x00\\x000.19.2q_ub.'\n"
     ]
    }
   ],
   "source": [
    "# lang-train-save\n",
    "from sklearn import svm\n",
    "from sklearn.externals import joblib\n",
    "import json\n",
    "\n",
    "with open(\"./lang/freq.json\", \"r\", encoding=\"utf-8\") as fp:\n",
    "    d = json.load(fp)\n",
    "    data = d[0]\n",
    "\n",
    "clf = svm.SVC()\n",
    "clf.fit(data[\"freqs\"], data[\"labels\"])\n",
    "\n",
    "joblib.dump(clf, \"./lang/freq.pkl\")\n",
    "print(\"OK\")\n",
    "\n",
    "pkl_f = open(\"./lang/freq.pkl\", \"rb\")\n",
    "data = pkl_f.read()\n",
    "print(data)"
   ]
  },
  {
   "cell_type": "code",
   "execution_count": null,
   "metadata": {
    "collapsed": true
   },
   "outputs": [],
   "source": [
    "# lang-webapp\n",
    "# test 방법 \n",
    "# + <root>\n",
    "# |--+ <cgi-bin>\n",
    "#    |-- lang-webapp.py\n",
    "# $chmod +x lang-webapp.py\n",
    "# $python -m http.server --cgi 8080\n",
    "# --------------------\n",
    "\n",
    "#!/usr/bin/env python3\n",
    "import cgi, os.path\n",
    "from sklearn.externals import joblib\n",
    "\n",
    "pklfile = os.path.dirname(__file__) + \"/../lang/freq.pkl\"\n",
    "clf = joblib.load(pklfile)\n",
    "\n",
    "def show_form(text, msg=\"\"):\n",
    "    print(\"Content-Type: text/html; charset=utf-8\")\n",
    "    print(\"\")\n",
    "    print(\"\"\"\n",
    "    <html><body><form>\n",
    "    <textarea name=\"text\" rows=\"8\" cols=\"40\">{0}</textarea>\n",
    "    <p><input type=\"submit\" value=\" 판정 \"></p>\n",
    "    <p>{1}</p>\n",
    "    </form></body></html>\n",
    "    \"\"\".format(cgi.escape(text), msg))\n",
    "\n",
    "def detect_lang(text):\n",
    "    text = text.lower()\n",
    "    code_a, code_z = (ord('a'), ord('z'))\n",
    "    cnt = [0 for i in range(26)]\n",
    "    for ch in text:\n",
    "        n = ord(ch)\n",
    "        if code_a <= n <= code_z: cnt[n-code_a] += 1\n",
    "    total = sum(cnt)\n",
    "    if total == 0: return \"입력이 없습니다.\"\n",
    "    freq = list(map(lambda n: n / total, cnt))\n",
    "    \n",
    "    res = clf.predict([freq])\n",
    "    lang_dic = {\"en\":\"영어\", \"fr\":\"프랑스어\", \"id\":\"인도네시아어\", \"tl\":\"타갈로그어\"}\n",
    "    return lang_dic[res[0]]\n",
    "\n",
    "form = cgi.FieldStorage()\n",
    "text = form.getvalue(\"text\", default=\"\")\n",
    "msg = \"\"\n",
    "if text != \"\":\n",
    "    lang = detect_lang(text)\n",
    "    msg = \"판정결과: \" + lang\n",
    "\n",
    "show_form(text, msg)"
   ]
  },
  {
   "cell_type": "code",
   "execution_count": 14,
   "metadata": {},
   "outputs": [
    {
     "name": "stdout",
     "output_type": "stream",
     "text": [
      "OK, {'thin': 6381, 'normal': 5883, 'fat': 7736}\n"
     ]
    }
   ],
   "source": [
    "# bmi-create\n",
    "import random\n",
    "\n",
    "def calc_bmi(h,w):\n",
    "    bmi = w / (h/100) ** 2\n",
    "    if bmi < 18.5: return \"thin\"\n",
    "    if bmi < 25: return \"normal\"\n",
    "    return \"fat\"\n",
    "\n",
    "fp = open(\"./bmi.csv\", \"w\", encoding=\"utf-8\")\n",
    "fp.write(\"height,weight,label\\r\\n\")\n",
    "cnt = {\"thin\":0, \"normal\":0, \"fat\":0}\n",
    "for i in range(20000):\n",
    "    h = random.randint(120, 200)\n",
    "    w = random.randint(35, 80)\n",
    "    label = calc_bmi(h,w)\n",
    "    cnt[label] += 1\n",
    "    fp.write(\"{0},{1},{2}\\r\\n\".format(h,w,label))\n",
    "fp.close()\n",
    "print(\"OK,\", cnt)"
   ]
  },
  {
   "cell_type": "code",
   "execution_count": 18,
   "metadata": {},
   "outputs": [
    {
     "name": "stdout",
     "output_type": "stream",
     "text": [
      "정답률: 0.9872\n",
      "Report=\n",
      "             precision    recall  f1-score   support\n",
      "\n",
      "        fat       1.00      0.99      0.99      1881\n",
      "     normal       0.97      0.99      0.98      1525\n",
      "       thin       1.00      0.98      0.99      1594\n",
      "\n",
      "avg / total       0.99      0.99      0.99      5000\n",
      "\n"
     ]
    }
   ],
   "source": [
    "# bmi0test\n",
    "from sklearn import svm, model_selection, metrics\n",
    "import matplotlib.pyplot as plt\n",
    "import pandas as pd\n",
    "\n",
    "tbl = pd.read_csv(\"./bmi.csv\")\n",
    "# print(tbl)\n",
    "label = tbl[\"label\"]\n",
    "w = tbl[\"weight\"] / 100 #100으로 normalize\n",
    "h = tbl[\"height\"] / 200 #200으로 Normalize\n",
    "wh = pd.concat([w,h], axis=1)\n",
    "# print(wh)\n",
    "\n",
    "data_train, data_test, label_train, label_test = model_selection.train_test_split(wh, label)\n",
    "\n",
    "clf = svm.SVC()\n",
    "clf.fit(data_train, label_train)\n",
    "\n",
    "predict = clf.predict(data_test)\n",
    "\n",
    "ac_score = metrics.accuracy_score(label_test, predict)\n",
    "cl_report = metrics.classification_report(label_test, predict)\n",
    "print(\"정답률:\", ac_score)\n",
    "print(\"Report=\")\n",
    "print(cl_report)"
   ]
  },
  {
   "cell_type": "code",
   "execution_count": 19,
   "metadata": {},
   "outputs": [
    {
     "data": {
      "image/png": "[encoded data removed]",
      "text/plain": [
       "<Figure size 432x288 with 1 Axes>"
      ]
     },
     "metadata": {},
     "output_type": "display_data"
    }
   ],
   "source": [
    "# bmi-plot\n",
    "import matplotlib.pyplot as plt\n",
    "import pandas as pd\n",
    "\n",
    "tbl = pd.read_csv(\"./bmi.csv\", index_col=2)\n",
    "\n",
    "fig = plt.figure()\n",
    "ax = fig.add_subplot(1,1,1)\n",
    "\n",
    "def scatter(lbl, color):\n",
    "    b = tbl.loc[lbl]\n",
    "    ax.scatter(b[\"weight\"], b[\"height\"], c=color, label=lbl)\n",
    "\n",
    "scatter(\"fat\", \"red\")\n",
    "scatter(\"normal\", \"yellow\")\n",
    "scatter(\"thin\", \"purple\")\n",
    "\n",
    "ax.legend()\n",
    "plt.savefig(\"big-test.png\")\n",
    "plt.show()"
   ]
  },
  {
   "cell_type": "code",
   "execution_count": 21,
   "metadata": {},
   "outputs": [
    {
     "name": "stdout",
     "output_type": "stream",
     "text": [
      "ok\n"
     ]
    }
   ],
   "source": [
    "# mushroom-download\n",
    "import urllib.request as req\n",
    "local = \"./mushroom.csv\"\n",
    "url = \"https://archive.ics.uci.edu/ml/machine-learning-databases/mushroom/agaricus-lepiota.data\"\n",
    "req.urlretrieve(url, local)\n",
    "print(\"ok\")"
   ]
  },
  {
   "cell_type": "code",
   "execution_count": 31,
   "metadata": {},
   "outputs": [
    {
     "name": "stdout",
     "output_type": "stream",
     "text": [
      "정답률: 1.0\n",
      "Report:\n",
      "             precision    recall  f1-score   support\n",
      "\n",
      "          e       1.00      1.00      1.00      1045\n",
      "          p       1.00      1.00      1.00       986\n",
      "\n",
      "avg / total       1.00      1.00      1.00      2031\n",
      "\n"
     ]
    }
   ],
   "source": [
    "# mushroom-train\n",
    "import pandas as pd\n",
    "from sklearn.ensemble import RandomForestClassifier\n",
    "from sklearn import model_selection, metrics\n",
    "\n",
    "mr = pd.read_csv(\"./mushroom.csv\", header=None)\n",
    "\n",
    "label = []\n",
    "data = []\n",
    "attr_list = []\n",
    "for row_index, row in mr.iterrows():\n",
    "    label.append(row.loc[0])\n",
    "    row_data = list(map(lambda n: ord(n), row.loc[1:]))\n",
    "#     row_data = []\n",
    "#     for v in row.loc[1:]:\n",
    "#         row_data.append(ord(v))\n",
    "    data.append(row_data)\n",
    "# print(data)\n",
    "\n",
    "data_train, data_test, label_train, label_test = model_selection.train_test_split(data, label)\n",
    "\n",
    "clf = RandomForestClassifier()\n",
    "clf.fit(data_train, label_train)\n",
    "\n",
    "predict = clf.predict(data_test)\n",
    "\n",
    "ac_score = metrics.accuracy_score(label_test, predict)\n",
    "cl_report = metrics.classification_report(label_test, predict)\n",
    "print(\"정답률:\", ac_score)\n",
    "print(\"Report:\")\n",
    "print(cl_report)"
   ]
  },
  {
   "cell_type": "code",
   "execution_count": 45,
   "metadata": {},
   "outputs": [
    {
     "name": "stdout",
     "output_type": "stream",
     "text": [
      "정답률:  1.0\n",
      "Report: \n",
      "             precision    recall  f1-score   support\n",
      "\n",
      "          e       1.00      1.00      1.00      1075\n",
      "          p       1.00      1.00      1.00       956\n",
      "\n",
      "avg / total       1.00      1.00      1.00      2031\n",
      "\n"
     ]
    }
   ],
   "source": [
    "# mushroom-train\n",
    "import pandas as pd\n",
    "from sklearn.ensemble import RandomForestClassifier\n",
    "from sklearn import model_selection, metrics\n",
    "\n",
    "mr = pd.read_csv(\"./mushroom.csv\", header=None)\n",
    "\n",
    "label = []\n",
    "data = []\n",
    "attr_list = []\n",
    "for row_index, row in mr.iterrows():\n",
    "    label.append(row.loc[0])\n",
    "    exdata = []\n",
    "#     print(row.loc[1:])\n",
    "    for col, v in enumerate(row.loc[1:]):\n",
    "        if row_index == 0:\n",
    "            attr = {\"dic\": {}, \"cnt\": 0}\n",
    "            attr_list.append(attr)\n",
    "        else:\n",
    "            attr = attr_list[col]\n",
    "        \n",
    "        d = [0]*12\n",
    "#         print(d)\n",
    "#         print(v,attr)\n",
    "        if v in attr[\"dic\"]:\n",
    "            idx = attr[\"dic\"][v]\n",
    "        else:\n",
    "            idx = attr[\"cnt\"]\n",
    "            attr[\"dic\"][v] = idx\n",
    "            attr[\"cnt\"] += 1\n",
    "        d[idx] = 1\n",
    "        exdata += d\n",
    "    data.append(exdata)\n",
    "\n",
    "data_train, data_test, label_train, label_test = model_selection.train_test_split(data, label)\n",
    "\n",
    "clf = RandomForestClassifier()\n",
    "clf.fit(data_train, label_train)\n",
    "predict = clf.predict(data_test)\n",
    "\n",
    "ac_score = metrics.accuracy_score(label_test, predict)\n",
    "cl_report = metrics.classification_report(label_test, predict)\n",
    "print(\"정답률: \", ac_score)\n",
    "print(\"Report: \")\n",
    "print(cl_report)"
   ]
  },
  {
   "cell_type": "code",
   "execution_count": 5,
   "metadata": {},
   "outputs": [
    {
     "name": "stdout",
     "output_type": "stream",
     "text": [
      "각 정답률= [0.9333333333333333, 1.0, 1.0, 0.9666666666666667, 0.9333333333333333]\n",
      "평균정답률= 0.9666666666666668\n"
     ]
    }
   ],
   "source": [
    "# cross-iris\n",
    "from sklearn import svm, metrics\n",
    "import  random, re\n",
    "\n",
    "lines = open(\"./iris.csv\", \"r\", encoding=\"utf-8\").read().split(\"\\n\")\n",
    "f_tonum = lambda n: float(n) if re.match(r'^[0-9\\.]+$', n) else n\n",
    "f_cols = lambda li: list(map(f_tonum, li.strip().split(',')))\n",
    "csv = list(map(f_cols, lines))\n",
    "del csv[0]\n",
    "random.shuffle(csv)\n",
    "\n",
    "K = 5\n",
    "csvk = [[] for i in range(K)]\n",
    "for i in range(len(csv)):\n",
    "    csvk[i % K].append(csv[i])\n",
    "\n",
    "def split_data_label(rows):\n",
    "    data = []; label = []\n",
    "    for row in rows:\n",
    "        data.append(row[0:4])\n",
    "        label.append(row[4])\n",
    "    return (data, label)\n",
    "\n",
    "def calc_score(test, train):\n",
    "    test_f, test_l = split_data_label(test)\n",
    "    train_f, train_l = split_data_label(train)\n",
    "    clf = svm.SVC()\n",
    "    clf.fit(train_f, train_l)\n",
    "    pre = clf.predict(test_f)\n",
    "    return metrics.accuracy_score(test_l, pre)\n",
    "\n",
    "score_list = []\n",
    "for testc in csvk:\n",
    "    trainc = []\n",
    "    for i in csvk:\n",
    "        if i != testc: trainc += i\n",
    "    sc = calc_score(testc, trainc)\n",
    "    score_list.append(sc)\n",
    "\n",
    "print(\"각 정답률=\", score_list)\n",
    "print(\"평균정답률=\", sum(score_list) / len(score_list))"
   ]
  },
  {
   "cell_type": "code",
   "execution_count": 9,
   "metadata": {},
   "outputs": [
    {
     "name": "stdout",
     "output_type": "stream",
     "text": [
      "각 정답률= [0.96666667 1.         0.96666667 0.96666667 1.        ]\n",
      "평균정답률= 0.9800000000000001\n"
     ]
    }
   ],
   "source": [
    "# cross-iris2\n",
    "import pandas as pd\n",
    "from sklearn import svm, metrics, model_selection\n",
    "import random, re\n",
    "\n",
    "csv = pd.read_csv(\"./iris.csv\")\n",
    "\n",
    "data = csv[[\"SepalLength\", \"SepalWidth\", \"PetalLength\", \"PetalWidth\"]]\n",
    "label = csv[\"Name\"]\n",
    "\n",
    "clf = svm.SVC()\n",
    "scores = model_selection.cross_val_score(clf, data, label, cv=5)\n",
    "print(\"각 정답률=\", scores)\n",
    "print(\"평균정답률=\", scores.mean())"
   ]
  },
  {
   "cell_type": "code",
   "execution_count": 20,
   "metadata": {},
   "outputs": [
    {
     "name": "stdout",
     "output_type": "stream",
     "text": [
      "학습 데이터 수 = 1000\n",
      "학습기= SVC(C=1, cache_size=200, class_weight=None, coef0=0.0,\n",
      "  decision_function_shape='ovr', degree=3, gamma='auto', kernel='linear',\n",
      "  max_iter=-1, probability=False, random_state=None, shrinking=True,\n",
      "  tol=0.001, verbose=False)\n",
      "정답률= 1.0\n"
     ]
    }
   ],
   "source": [
    "import pandas as pd\n",
    "from sklearn import model_selection, svm, metrics\n",
    "from sklearn.grid_search import GridSearchCV\n",
    "\n",
    "train_csv = pd.read_csv(\"./train-mnist-number.csv\")\n",
    "test_csv = pd.read_csv(\"./test-mnist-number.csv\")\n",
    "\n",
    "train_label = train_csv.iloc[:,0]\n",
    "train_data = train_csv.iloc[:, 1:577]\n",
    "\n",
    "test_label = test_csv.iloc[:,0]\n",
    "test_data = test_csv.iloc[:, 1:577]\n",
    "print(\"학습 데이터 수 =\", len(train_label))\n",
    "\n",
    "params = [\n",
    "    {\"C\":[1,10,100,1000], \"kernel\":[\"linear\"]},\n",
    "    {\"C\":[1,10,100,1000], \"kernel\":[\"rbf\"], \"gamma\":[0.001, 0.0001]}\n",
    "]\n",
    "\n",
    "clf = GridSearchCV(svm.SVC(), params, n_jobs=-1)\n",
    "clf.fit(train_data, train_label)\n",
    "print(\"학습기=\", clf.best_estimator_)\n",
    "\n",
    "pre = clf.predict(test_data)\n",
    "ac_score = metrics.accuracy_score(test_label, pre)\n",
    "print(\"정답률=\", ac_score)"
   ]
  },
  {
   "cell_type": "code",
   "execution_count": 23,
   "metadata": {},
   "outputs": [
    {
     "data": {
      "text/plain": [
       "b'Hello'"
      ]
     },
     "execution_count": 23,
     "metadata": {},
     "output_type": "execute_result"
    }
   ],
   "source": [
    "# pip install --upgrade tensorflow \n",
    "# 이런 오류가 난다면 : RuntimeWarning: compiletime version 3.5 of module 'tensorflow.python.framework.fast_tensor_util' does not match runtime version 3.6\n",
    "# 해결 방법 :\n",
    "# --> import tensorflow aspip install --ignore-installed --upgrade \"https://github.com/lakshayg/tensorflow-build/raw/master/tensorflow-1.4.0-cp36-cp36m-macosx_10_12_x86_64.whl\" \n",
    "# --> pip install --upgrade https://github.com/lakshayg/tensorflow-build/raw/master/tensorflow-1.4.1-cp36-cp36m-macosx_10_13_x86_64.whl\n",
    "import tensorflow as tf\n",
    "sess = tf.Session()\n",
    "hello = tf.constant('Hello')\n",
    "sess.run(hello)"
   ]
  },
  {
   "cell_type": "code",
   "execution_count": 24,
   "metadata": {},
   "outputs": [
    {
     "name": "stdout",
     "output_type": "stream",
     "text": [
      "6234\n"
     ]
    }
   ],
   "source": [
    "# ch5. calc1\n",
    "import tensorflow as tf\n",
    "\n",
    "a = tf.constant(1234)\n",
    "b = tf.constant(5000)\n",
    "\n",
    "add_op = a+b\n",
    "sess = tf.Session()\n",
    "result = sess.run(add_op)\n",
    "print(result)"
   ]
  },
  {
   "cell_type": "code",
   "execution_count": 25,
   "metadata": {},
   "outputs": [
    {
     "name": "stdout",
     "output_type": "stream",
     "text": [
      "14\n",
      "20\n"
     ]
    }
   ],
   "source": [
    "# ch5. calc2\n",
    "import tensorflow as tf\n",
    "\n",
    "a = tf.constant(2)\n",
    "b = tf.constant(3)\n",
    "c = tf.constant(4)\n",
    "\n",
    "calc1_op = a + b * c\n",
    "calc2_op = (a+b) * c\n",
    "\n",
    "sess = tf.Session()\n",
    "res1 = sess.run(calc1_op)\n",
    "print(res1)\n",
    "res2 = sess.run(calc2_op)\n",
    "print(res2)"
   ]
  },
  {
   "cell_type": "code",
   "execution_count": 27,
   "metadata": {},
   "outputs": [
    {
     "data": {
      "text/plain": [
       "[<matplotlib.lines.Line2D at 0x12cfbe080>]"
      ]
     },
     "execution_count": 27,
     "metadata": {},
     "output_type": "execute_result"
    },
    {
     "data": {
      "image/png": "[encoded data removed]",
      "text/plain": [
       "<Figure size 432x288 with 1 Axes>"
      ]
     },
     "metadata": {},
     "output_type": "display_data"
    }
   ],
   "source": [
    "# test\n",
    "%matplotlib inline\n",
    "import matplotlib.pyplot as plt\n",
    "import numpy as np\n",
    "x = np.arange(-20,20,0.1)\n",
    "y = np.sin(x)\n",
    "plt.plot(x,y)"
   ]
  },
  {
   "cell_type": "code",
   "execution_count": 31,
   "metadata": {},
   "outputs": [
    {
     "name": "stdout",
     "output_type": "stream",
     "text": [
      "Tensor(\"Assign_3:0\", shape=(), dtype=int32_ref)\n",
      "390\n"
     ]
    }
   ],
   "source": [
    "#ch5. var\n",
    "import tensorflow as tf\n",
    "\n",
    "a = tf.constant(120, name=\"a\")\n",
    "b = tf.constant(130, name=\"b\")\n",
    "c = tf.constant(140, name=\"c\")\n",
    "\n",
    "v = tf.Variable(0, name=\"v\")\n",
    "\n",
    "calc_op = a + b + c\n",
    "assign_op = tf.assign(v, calc_op)\n",
    "\n",
    "sess = tf.Session()\n",
    "sess.run(assign_op)\n",
    "print(assign_op)\n",
    "\n",
    "print(sess.run(v))"
   ]
  },
  {
   "cell_type": "code",
   "execution_count": 33,
   "metadata": {},
   "outputs": [
    {
     "name": "stdout",
     "output_type": "stream",
     "text": [
      "[2 4 6]\n",
      "[20 40 60]\n"
     ]
    }
   ],
   "source": [
    "# ch5. placeholder\n",
    "import tensorflow as tf\n",
    "\n",
    "a = tf.placeholder(tf.int32, [3])\n",
    "\n",
    "b = tf.constant(2)\n",
    "x2_op = a * b\n",
    "\n",
    "sess = tf.Session()\n",
    "r1 = sess.run(x2_op, feed_dict={a:[1, 2, 3]})\n",
    "print(r1)\n",
    "\n",
    "r2 = sess.run(x2_op, feed_dict={a:[10,20,30]})\n",
    "print(r2)"
   ]
  },
  {
   "cell_type": "code",
   "execution_count": 37,
   "metadata": {},
   "outputs": [
    {
     "name": "stdout",
     "output_type": "stream",
     "text": [
      "[10 20 30 40 50]\n",
      "[100 200]\n"
     ]
    }
   ],
   "source": [
    "# ch5. placeholder2\n",
    "\n",
    "import tensorflow as tf\n",
    "\n",
    "a = tf.placeholder(tf.int32, [None])\n",
    "\n",
    "b = tf.constant(10)\n",
    "x10_op = a * b\n",
    "x10_op1 = a1 * b\n",
    "\n",
    "sess = tf.Session()\n",
    "\n",
    "r1 = sess.run(x10_op, feed_dict={a:[1,2,3,4,5]})\n",
    "print(r1)\n",
    "\n",
    "r2 = sess.run(x10_op, feed_dict={a:[10,20]})\n",
    "print(r2)\n"
   ]
  },
  {
   "cell_type": "code",
   "execution_count": 9,
   "metadata": {},
   "outputs": [
    {
     "name": "stdout",
     "output_type": "stream",
     "text": [
      "step= 0 ,cre= 109.10073 ,acc= 0.2916\n",
      "step= 500 ,cre= 52.072533 ,acc= 0.84\n",
      "step= 1000 ,cre= 44.977364 ,acc= 0.9368\n",
      "step= 1500 ,cre= 36.814026 ,acc= 0.9462\n",
      "step= 2000 ,cre= 35.542553 ,acc= 0.9562\n",
      "step= 2500 ,cre= 31.20774 ,acc= 0.938\n",
      "step= 3000 ,cre= 33.11543 ,acc= 0.968\n",
      "정답률= 0.973\n"
     ]
    }
   ],
   "source": [
    "# ch5. bmi\n",
    "\n",
    "import pandas as pd\n",
    "import numpy as np\n",
    "import tensorflow as tf\n",
    "\n",
    "csv = pd.read_csv(\"./bmi.csv\")\n",
    "csv[\"height\"] = csv[\"height\"] / 200\n",
    "csv[\"weight\"] = csv[\"weight\"] / 100\n",
    "\n",
    "bclass = {\"thin\": [1,0,0], \"normal\": [0,1,0], \"fat\": [0,0,1]}\n",
    "# 람다를 이용하여 배열의 해당 컬럼 데이터에 대해 일괄 변경 하는 예제\n",
    "csv[\"label_pat\"] = csv[\"label\"].apply(lambda x: np.array(bclass[x]))\n",
    "\n",
    "test_csv = csv[15000:20000]\n",
    "test_pat = test_csv[[\"weight\", \"height\"]]\n",
    "test_ans = list(test_csv[\"label_pat\"])\n",
    "\n",
    "x = tf.placeholder(tf.float32, [None, 2])\n",
    "y_ = tf.placeholder(tf.float32, [None, 3])\n",
    "\n",
    "W = tf.Variable(tf.zeros([2,3]))\n",
    "b = tf.Variable(tf.zeros([3]))\n",
    "#softmax 회기 \n",
    "y = tf.nn.softmax(tf.matmul(x, W) + b) # x*W+b\n",
    "\n",
    "cross_entropy = -tf.reduce_sum(y_ * tf.log(y))\n",
    "optimizer = tf.train.GradientDescentOptimizer(0.01)\n",
    "train = optimizer.minimize(cross_entropy)\n",
    "\n",
    "predict = tf.equal(tf.argmax(y, 1), tf.argmax(y_, 1))\n",
    "accuracy = tf.reduce_mean(tf.cast(predict, tf.float32))\n",
    "\n",
    "sess = tf.Session()\n",
    "# WARNING:tensorflow:From /Users/we/anaconda3/lib/python3.6/site-packages/tensorflow/python/util/tf_should_use.py:107: initialize_all_variables (from tensorflow.python.ops.variables) is deprecated and will be removed after 2017-03-02.\n",
    "# Instructions for updating:\n",
    "# Use `tf.global_variables_initializer` instead.\n",
    "# sess.run(tf.initialize_all_variables()) -->\n",
    "sess.run(tf.global_variables_initializer())\n",
    "for step in range(3500):\n",
    "    i = (step * 100) % 14000\n",
    "    rows = csv[1 + i : 1 + i + 100]\n",
    "    x_pat = rows[[\"weight\", \"height\"]]\n",
    "    y_ans = list(rows[\"label_pat\"])\n",
    "    fd = {x:x_pat, y_:y_ans}\n",
    "    sess.run(train, feed_dict=fd)\n",
    "    if step % 500 == 0:\n",
    "        cre = sess.run(cross_entropy, feed_dict=fd)\n",
    "        acc = sess.run(accuracy, feed_dict={x:test_pat, y_:test_ans})\n",
    "        print(\"step=\",step,\",cre=\",cre,\",acc=\",acc)\n",
    "\n",
    "acc = sess.run(accuracy, feed_dict={x:test_pat, y_:test_ans})\n",
    "print(\"정답률=\",acc)"
   ]
  },
  {
   "cell_type": "code",
   "execution_count": 15,
   "metadata": {},
   "outputs": [
    {
     "name": "stdout",
     "output_type": "stream",
     "text": [
      "600\n"
     ]
    }
   ],
   "source": [
    "# ch5. tb-mul\n",
    "import tensorflow as tf\n",
    "a = tf.constant(20, name=\"a\")\n",
    "b = tf.constant(30, name=\"b\")\n",
    "\n",
    "mul_op = a * b\n",
    "\n",
    "sess = tf.Session()\n",
    "# tw = tf.train.SummaryWriter(\"./log_dir\", graph=sess.graph)\n",
    "tw = tf.summary.FileWriter(\"log_dir\", graph=sess.graph)\n",
    "print(sess.run(mul_op))"
   ]
  },
  {
   "cell_type": "code",
   "execution_count": 17,
   "metadata": {},
   "outputs": [
    {
     "name": "stdout",
     "output_type": "stream",
     "text": [
      "60100\n"
     ]
    }
   ],
   "source": [
    "# ch5. tb-add\n",
    "import tensorflow as tf\n",
    "\n",
    "a = tf.constant(100, name=\"a\")\n",
    "b = tf.constant(200, name=\"b\")\n",
    "c = tf.constant(300, name=\"c\")\n",
    "v = tf.Variable(0, name=\"v\")\n",
    "\n",
    "calc_op = a + b * c\n",
    "assign_op = tf.assign(v, calc_op)\n",
    "\n",
    "sess = tf.Session()\n",
    "\n",
    "tw = tf.summary.FileWriter(\"./log_dir\", graph=sess.graph)\n",
    "\n",
    "sess.run(assign_op)\n",
    "print(sess.run(v))"
   ]
  },
  {
   "cell_type": "code",
   "execution_count": 19,
   "metadata": {},
   "outputs": [
    {
     "name": "stdout",
     "output_type": "stream",
     "text": [
      "step= 0 ,cre= 109.10073 ,acc= 0.2916\n",
      "step= 500 ,cre= 52.072533 ,acc= 0.84\n",
      "step= 1000 ,cre= 44.977364 ,acc= 0.9368\n",
      "step= 1500 ,cre= 36.814026 ,acc= 0.9462\n",
      "step= 2000 ,cre= 35.542553 ,acc= 0.9562\n",
      "step= 2500 ,cre= 31.20774 ,acc= 0.938\n",
      "step= 3000 ,cre= 33.11543 ,acc= 0.968\n",
      "정답률= 0.973\n"
     ]
    }
   ],
   "source": [
    "# ch5.5 tb-bmi\n",
    "\n",
    "import pandas as pd\n",
    "import numpy as np\n",
    "import tensorflow as tf\n",
    "\n",
    "csv = pd.read_csv(\"./bmi.csv\")\n",
    "csv[\"height\"] = csv[\"height\"] / 200\n",
    "csv[\"weight\"] = csv[\"weight\"] / 100\n",
    "\n",
    "bclass = {\"thin\": [1,0,0], \"normal\": [0,1,0], \"fat\": [0,0,1]}\n",
    "# 람다를 이용하여 배열의 해당 컬럼 데이터에 대해 일괄 변경 하는 예제\n",
    "csv[\"label_pat\"] = csv[\"label\"].apply(lambda x: np.array(bclass[x]))\n",
    "\n",
    "test_csv = csv[15000:20000]\n",
    "test_pat = test_csv[[\"weight\", \"height\"]]\n",
    "test_ans = list(test_csv[\"label_pat\"])\n",
    "\n",
    "x = tf.placeholder(tf.float32, [None, 2], name=\"x\") # x\n",
    "y_ = tf.placeholder(tf.float32, [None, 3], name=\"y_\") # y\n",
    "\n",
    "# interface 부분을 스코프로 묶기\n",
    "with tf.name_scope('interface') as scope:\n",
    "    W = tf.Variable(tf.zeros([2,3]), name=\"W\") # weight\n",
    "    b = tf.Variable(tf.zeros([3]), name=\"b\") # bias\n",
    "    #softmax 회기 \n",
    "    with tf.name_scope('softmax') as scope:\n",
    "        y = tf.nn.softmax(tf.matmul(x, W) + b) # x*W+b\n",
    "\n",
    "# loss 계산\n",
    "with tf.name_scope('loss') as scope:\n",
    "    cross_entropy = -tf.reduce_sum(y_ * tf.log(y))\n",
    "\n",
    "# training 계산\n",
    "with tf.name_scope('training') as scope:\n",
    "    optimizer = tf.train.GradientDescentOptimizer(0.01)\n",
    "    train = optimizer.minimize(cross_entropy)\n",
    "\n",
    "# accuracy 계산\n",
    "with tf.name_scope('accuracy') as scope:\n",
    "    predict = tf.equal(tf.argmax(y, 1), tf.argmax(y_, 1))\n",
    "    accuracy = tf.reduce_mean(tf.cast(predict, tf.float32))\n",
    "\n",
    "sess = tf.Session()\n",
    "\n",
    "# tensorboard에 그래프를 그리기 위한 준비\n",
    "tw = tf.summary.FileWriter(\"./log_dir\", graph=sess.graph)\n",
    "\n",
    "# WARNING:tensorflow:From /Users/we/anaconda3/lib/python3.6/site-packages/tensorflow/python/util/tf_should_use.py:107: initialize_all_variables (from tensorflow.python.ops.variables) is deprecated and will be removed after 2017-03-02.\n",
    "# Instructions for updating:\n",
    "# Use `tf.global_variables_initializer` instead.\n",
    "# sess.run(tf.initialize_all_variables()) -->\n",
    "sess.run(tf.global_variables_initializer())\n",
    "for step in range(3500):\n",
    "    i = (step * 100) % 14000\n",
    "    rows = csv[1 + i : 1 + i + 100]\n",
    "    x_pat = rows[[\"weight\", \"height\"]]\n",
    "    y_ans = list(rows[\"label_pat\"])\n",
    "    fd = {x:x_pat, y_:y_ans}\n",
    "    sess.run(train, feed_dict=fd)\n",
    "    if step % 500 == 0:\n",
    "        cre = sess.run(cross_entropy, feed_dict=fd)\n",
    "        acc = sess.run(accuracy, feed_dict={x:test_pat, y_:test_ans})\n",
    "        print(\"step=\",step,\",cre=\",cre,\",acc=\",acc)\n",
    "\n",
    "acc = sess.run(accuracy, feed_dict={x:test_pat, y_:test_ans})\n",
    "print(\"정답률=\",acc)"
   ]
  },
  {
   "cell_type": "code",
   "execution_count": null,
   "metadata": {
    "collapsed": true
   },
   "outputs": [],
   "source": [
    "# ch5.6 mnist-deep\n",
    "import tensorflow as tf\n",
    "from tensorflow.examples.tutorials.mnist import input_data\n",
    "\n",
    "#MNIST 숫자 이미지 읽기\n",
    "mnist = input_data.read_data_sets(\"./mnist/\", one_hot=True)\n",
    "\n",
    "pixels = 28 * 28\n",
    "nums = 10 # 0-9 까지 10개의 클래스로 나뉨\n",
    "\n",
    "\n",
    "x = tf.placeholder(tf.float32, shape=(None, pixels), name=\"x\") # 이미지 데이터\n",
    "y_ = tf.placeholder(tf.float32, shape=(None, nums), name=\"y_\") # 정답 레이블\n",
    "\n",
    "# weight\n",
    "def weight_variable(name, shape):\n",
    "    W_init = tf.truncated_normal(shape, stddev=0.1)\n",
    "    W = tf.Variable(W_init, name=\"W_\"+name)\n",
    "    return W\n",
    "\n",
    "# bias\n",
    "def bias_variable(name, size):\n",
    "    b_init = tf.constant(0.1, shape=[size])\n",
    "    b = tf.Variable(b_init, name=\"b_\"+name)\n",
    "    return b\n",
    "\n",
    "# convolution network\n",
    "def conv2d(x, W):\n",
    "    return tf.nn.conv2d(x, W, strides=[1,1,1,1], padding='SAME')\n",
    "\n",
    "# pooling network\n",
    "def max_pool(x):\n",
    "    return tf.nn.max_pool(x, ksize=[1,2,2,1],\n",
    "                         strides=[1,2,2,1], padding='SAME')\n",
    "\n",
    "# convolution network 1\n",
    "with tf.name_scope(\"conv1\") as scope:\n",
    "    W_conv1 = weight_variable('conv1', [5, 5, 1, 32])\n",
    "    b_conv1 = bias_variable('conv1', 32)\n",
    "    x_image = tf.reshape(x, [-1, 28, 28, 1])\n",
    "    h_conv1 = tf.nn.relu(conv2d(x_image, W_conv1) + b_conv1)\n",
    "    \n",
    "# pooling network 1\n",
    "with tf.name_scope(\"pool1\") as scope:\n",
    "    h_pool1 = max_pool(h_conv1)\n",
    "\n",
    "# convolution network 2\n",
    "with tf.name_scope(\"conv2\") as scope:\n",
    "    W_conv2 = weight_variable('conv2', [5, 5, 32, 64])\n",
    "    b_conv2 = bias_variable('conv2', 64)\n",
    "    h_conv2 = tf.nn.relu(conv2d(h_pool1, W_conv2) + b_conv2)\n",
    "\n",
    "with tf.name_scope('pool2') as scope:\n",
    "    h_pool2 = max_pool(h_conv2)\n",
    "\n",
    "with tf.name_scope('fully_connected') as scope:\n",
    "    n = 7 * 7 * 64\n",
    "    W_fc = weight_variable('fc', [n, 1024])\n",
    "    b_fc = bias_variable('fc', 1024)\n",
    "    h_pool2_flat = tf.reshape(h_pool2, [-1, n])\n",
    "    h_fc = tf.nn.relu(tf.matmul(h_pool2_flat, W_fc) + b_fc)\n",
    "\n",
    "with tf.name_scope('dropout') as scope:\n",
    "    keep_prob = tf.placeholder(tf.float32)\n",
    "    h_fc_drop = tf.nn.dropout(h_fc, keep_prob)\n",
    "\n",
    "with tf.name_scope(\"readout\") as scope:\n",
    "    W_fc2 = weight_variable('tc2', [1024, 10])\n",
    "    b_fc2 = bias_variable('tc2', 10)\n",
    "    y_conv = tf.nn.softmax(tf.matmul(h_fc_drop, W_fc2) + b_fc2)\n",
    "\n",
    "with tf.name_scope('loss') as scope:\n",
    "    cross_entropy = -tf.reduce_sum(y_ * tf.log(y_conv))\n",
    "\n",
    "with tf.name_scope('training') as scope:\n",
    "    optimizer = tf.train.AdamOptimizer(1e-4)\n",
    "    train_step = optimizer.minimize(cross_entropy)\n",
    "\n",
    "with tf.name_scope('predict') as scope:\n",
    "    predict_step = tf.equal(tf.argmax(y_conv, 1), tf.argmax(y_, 1))\n",
    "    accuracy_step = tf.reduce_mean(tf.cast(predict_step, tf.float32))\n",
    "    \n",
    "def set_feed(images, labels, prob):\n",
    "    return {x:images, y_:labels, keep_prob:prob}\n",
    "\n",
    "with tf.Session() as sess:\n",
    "    sess.run(tf.initialize_all_variables())\n",
    "    tw = tf.summary.FileWriter('./log_dir', graph=sess.graph)\n",
    "    test_fd = set_feed(mnist.test.images, mnist.test.labels, 1)\n",
    "    for step in range(10000):\n",
    "        batch = mnist.train.next_batch(50)\n",
    "        fd = set_feed(batch[0], batch[1], 0.5)\n",
    "        _, loss = sess.run([train_step, cross_entropy], feed_dict=fd)\n",
    "        if step % 10 == 0:\n",
    "            acc = sess.run(accuracy_step, feed_dict=test_fd)\n",
    "            print(\"step=\", step, \"loss=\", loss, \"acc=\", acc)\n",
    "    acc = sess.run(accuracy_step, feed_dict=test_fd)\n",
    "    print(\"정답률=\", acc)\n"
   ]
  },
  {
   "cell_type": "code",
   "execution_count": 20,
   "metadata": {},
   "outputs": [
    {
     "name": "stderr",
     "output_type": "stream",
     "text": [
      "Using TensorFlow backend.\n"
     ]
    },
    {
     "name": "stdout",
     "output_type": "stream",
     "text": [
      "Downloading data from https://s3.amazonaws.com/img-datasets/mnist.npz\n",
      "11370496/11490434 [============================>.] - ETA: 0sEpoch 1/10\n",
      "60000/60000 [==============================] - 15s - loss: 0.2123 - acc: 0.9346    \n",
      "Epoch 2/10\n",
      "60000/60000 [==============================] - 15s - loss: 0.1040 - acc: 0.9677    \n",
      "Epoch 3/10\n",
      "60000/60000 [==============================] - 15s - loss: 0.0804 - acc: 0.9747    \n",
      "Epoch 4/10\n",
      "60000/60000 [==============================] - 15s - loss: 0.0671 - acc: 0.9791    \n",
      "Epoch 5/10\n",
      "60000/60000 [==============================] - 15s - loss: 0.0576 - acc: 0.9822    \n",
      "Epoch 6/10\n",
      "60000/60000 [==============================] - 15s - loss: 0.0525 - acc: 0.9840    \n",
      "Epoch 7/10\n",
      "60000/60000 [==============================] - 15s - loss: 0.0473 - acc: 0.9857    \n",
      "Epoch 8/10\n",
      "60000/60000 [==============================] - 15s - loss: 0.0398 - acc: 0.9875    \n",
      "Epoch 9/10\n",
      "60000/60000 [==============================] - 15s - loss: 0.0424 - acc: 0.9870    \n",
      "Epoch 10/10\n",
      "60000/60000 [==============================] - 15s - loss: 0.0386 - acc: 0.9879    \n",
      " 9408/10000 [===========================>..] - ETA: 0sloss= 0.0788958318695004\n",
      "accuracy= 0.9805\n"
     ]
    }
   ],
   "source": [
    "# ch5.7 keras-mnist\n",
    "\n",
    "from keras.datasets import mnist\n",
    "from keras.models import Sequential\n",
    "from keras.layers.core import Dense, Dropout, Activation\n",
    "from keras.optimizers import Adam\n",
    "from keras.utils import np_utils\n",
    "\n",
    "(X_train, y_train), (X_test, y_test) = mnist.load_data()\n",
    "\n",
    "X_train = X_train.reshape(60000, 784).astype('float32')\n",
    "X_test = X_test.reshape(10000, 784).astype('float32')\n",
    "X_train /= 255\n",
    "X_test /= 255\n",
    "\n",
    "y_train = np_utils.to_categorical(y_train, 10)\n",
    "y_test = np_utils.to_categorical(y_test, 10)\n",
    "\n",
    "# model 구조 정의\n",
    "model = Sequential()\n",
    "# 1 layer\n",
    "model.add(Dense(512, input_shape=(784,)))\n",
    "model.add(Activation('relu'))\n",
    "model.add(Dropout(0.2))\n",
    "# 2 layer\n",
    "model.add(Dense(512))\n",
    "model.add(Activation('relu'))\n",
    "model.add(Dropout(0.2))\n",
    "# 3 layer\n",
    "model.add(Dense(10))\n",
    "model.add(Activation('softmax'))\n",
    "\n",
    "# model 구축\n",
    "model.compile(\n",
    "    loss='categorical_crossentropy',\n",
    "    optimizer=Adam(),\n",
    "    metrics=['accuracy']\n",
    ")\n",
    "\n",
    "# data training\n",
    "hist = model.fit(X_train, y_train)\n",
    "\n",
    "# data test\n",
    "score = model.evaluate(X_test, y_test, verbose=1)\n",
    "print('loss=', score[0])\n",
    "print('accuracy=', score[1])"
   ]
  },
  {
   "cell_type": "code",
   "execution_count": 26,
   "metadata": {},
   "outputs": [
    {
     "name": "stdout",
     "output_type": "stream",
     "text": [
      "Train on 13500 samples, validate on 1500 samples\n",
      "Epoch 1/20\n",
      "13500/13500 [==============================] - 0s - loss: 0.5036 - acc: 0.7932 - val_loss: 0.2772 - val_acc: 0.9087\n",
      "Epoch 2/20\n",
      "13500/13500 [==============================] - 0s - loss: 0.2454 - acc: 0.8998 - val_loss: 0.1683 - val_acc: 0.9533\n",
      "Epoch 3/20\n",
      "13500/13500 [==============================] - 0s - loss: 0.1891 - acc: 0.9175 - val_loss: 0.2057 - val_acc: 0.8960\n",
      "Epoch 4/20\n",
      "13500/13500 [==============================] - 0s - loss: 0.1643 - acc: 0.9299 - val_loss: 0.1456 - val_acc: 0.9280\n",
      "Epoch 5/20\n",
      "13500/13500 [==============================] - 0s - loss: 0.1497 - acc: 0.9366 - val_loss: 0.2344 - val_acc: 0.8807\n",
      "Epoch 6/20\n",
      "13500/13500 [==============================] - 0s - loss: 0.1420 - acc: 0.9377 - val_loss: 0.1372 - val_acc: 0.9260\n",
      "Epoch 7/20\n",
      "13500/13500 [==============================] - 0s - loss: 0.1314 - acc: 0.9441 - val_loss: 0.0762 - val_acc: 0.9793\n",
      "Epoch 8/20\n",
      "13500/13500 [==============================] - 0s - loss: 0.1325 - acc: 0.9403 - val_loss: 0.3269 - val_acc: 0.8587\n",
      "Epoch 9/20\n",
      "13500/13500 [==============================] - 0s - loss: 0.1240 - acc: 0.9473 - val_loss: 0.0685 - val_acc: 0.9887\n",
      "Epoch 10/20\n",
      "13500/13500 [==============================] - 0s - loss: 0.1231 - acc: 0.9467 - val_loss: 0.0726 - val_acc: 0.9727\n",
      "Epoch 11/20\n",
      "13500/13500 [==============================] - 0s - loss: 0.1164 - acc: 0.9495 - val_loss: 0.2395 - val_acc: 0.8880\n",
      "Epoch 12/20\n",
      "13500/13500 [==============================] - 0s - loss: 0.1157 - acc: 0.9491 - val_loss: 0.0623 - val_acc: 0.9867\n",
      "Epoch 13/20\n",
      "13500/13500 [==============================] - 0s - loss: 0.1109 - acc: 0.9548 - val_loss: 0.0820 - val_acc: 0.9587\n",
      "Epoch 14/20\n",
      "13500/13500 [==============================] - 0s - loss: 0.1117 - acc: 0.9522 - val_loss: 0.0575 - val_acc: 0.9867\n",
      "Epoch 15/20\n",
      "13500/13500 [==============================] - 0s - loss: 0.1109 - acc: 0.9510 - val_loss: 0.1467 - val_acc: 0.9233\n",
      "Epoch 16/20\n",
      "13500/13500 [==============================] - 0s - loss: 0.1053 - acc: 0.9524 - val_loss: 0.1574 - val_acc: 0.9187\n",
      "Epoch 17/20\n",
      "13500/13500 [==============================] - 0s - loss: 0.1020 - acc: 0.9576 - val_loss: 0.0791 - val_acc: 0.9580\n",
      "4000/4999 [=======================>......] - ETA: 0sloss= 0.07651986448222052\n",
      "accuracy= 0.961792358495541\n"
     ]
    }
   ],
   "source": [
    "# ch5.7 keras-bmi\n",
    "from keras.models import Sequential\n",
    "from keras.layers.core import Dense, Dropout, Activation\n",
    "from keras.callbacks import EarlyStopping\n",
    "import pandas as pd, numpy as np\n",
    "\n",
    "# BMI 데이터 읽어 정규화\n",
    "csv = pd.read_csv(\"./bmi.csv\")\n",
    "csv[\"weight\"] /= 100\n",
    "csv[\"height\"] /= 200\n",
    "\n",
    "# weight와 height만 추출하여 array 생성 \n",
    "X = csv[[\"weight\", \"height\"]].as_matrix() \n",
    "\n",
    "# label\n",
    "bclass = {\"thin\": [1,0,0], \"normal\":[0,1,0], \"fat\":[0,0,1]}\n",
    "y = np.empty((20000, 3))\n",
    "for i, v in enumerate(csv[\"label\"]):\n",
    "    y[i] = bclass[v]\n",
    "\n",
    "X_train, y_train = X[1:15001], y[1:15001]  # 각 15000 건\n",
    "X_test, y_test = X[15001:20001], y[15001:20001] # 나머지 5000건\n",
    "\n",
    "# 모델 정의\n",
    "model = Sequential()\n",
    "model.add(Dense(512, input_shape=(2,)))\n",
    "model.add(Activation(\"relu\"))\n",
    "model.add(Dropout(0.1))\n",
    "\n",
    "model.add(Dense(512))\n",
    "model.add(Activation(\"relu\"))\n",
    "model.add(Dropout(0.1))\n",
    "\n",
    "model.add(Dense(3))\n",
    "model.add(Activation(\"softmax\"))\n",
    "\n",
    "# 모델 구축 \n",
    "model.compile(\n",
    "    loss='categorical_crossentropy',\n",
    "    optimizer=\"rmsprop\",\n",
    "    metrics=['accuracy']\n",
    ")\n",
    "\n",
    "# 데이터 학습\n",
    "hist = model.fit(\n",
    "    X_train, y_train,\n",
    "    batch_size=100,\n",
    "    epochs=20, # nb_epoch=20, 파라미터 이름이 변경 됨 \n",
    "    validation_split=0.1,\n",
    "    callbacks=[EarlyStopping(monitor='val_loss', patience=2)],\n",
    "    verbose=1\n",
    ")\n",
    "\n",
    "# 테스트\n",
    "score = model.evaluate(X_test, y_test)\n",
    "print('loss=', score[0])\n",
    "print('accuracy=', score[1])"
   ]
  },
  {
   "cell_type": "code",
   "execution_count": 28,
   "metadata": {},
   "outputs": [
    {
     "name": "stdout",
     "output_type": "stream",
     "text": [
      "    0   1   2\n",
      "0  10  20  30\n",
      "1  40  50  60\n",
      "2  70  80  90\n"
     ]
    }
   ],
   "source": [
    "# ch5.8 pd-test-df\n",
    "\n",
    "import pandas as pd\n",
    "\n",
    "a = pd.DataFrame([\n",
    "    [10,20,30],\n",
    "    [40,50,60],\n",
    "    [70,80,90]\n",
    "])\n",
    "\n",
    "print(a)"
   ]
  },
  {
   "cell_type": "code",
   "execution_count": 29,
   "metadata": {},
   "outputs": [
    {
     "name": "stdout",
     "output_type": "stream",
     "text": [
      "0    1.0\n",
      "1    3.0\n",
      "2    5.0\n",
      "3    7.0\n",
      "4    9.0\n",
      "dtype: float64\n"
     ]
    }
   ],
   "source": [
    "# ch5.8 pd-test-s\n",
    "\n",
    "import pandas as pd, numpy as np\n",
    "s = pd.Series([1.0, 3.0, 5.0, 7.0, 9.0])\n",
    "print(s)"
   ]
  },
  {
   "cell_type": "code",
   "execution_count": 30,
   "metadata": {},
   "outputs": [
    {
     "name": "stdout",
     "output_type": "stream",
     "text": [
      "체중 일람\n",
      "0    80.0\n",
      "1    70.4\n",
      "2    65.5\n",
      "3    45.9\n",
      "4    51.2\n",
      "Name: weight, dtype: float64\n",
      "체중과 신장 일람\n",
      "   weight  height\n",
      "0    80.0     170\n",
      "1    70.4     180\n",
      "2    65.5     155\n",
      "3    45.9     143\n",
      "4    51.2     154\n"
     ]
    }
   ],
   "source": [
    "# ch5.8 pd-test-key\n",
    "\n",
    "import pandas as pd\n",
    "\n",
    "tbl = pd.DataFrame({\n",
    "    \"weight\": [80.0, 70.4, 65.5, 45.9, 51.2],\n",
    "    \"height\": [170, 180, 155, 143, 154],\n",
    "    \"type\": [\"f\", \"n\", \"n\", \"t\", \"t\"]\n",
    "})\n",
    "\n",
    "print(\"체중 일람\")\n",
    "print(tbl[\"weight\"])\n",
    "\n",
    "print(\"체중과 신장 일람\")\n",
    "print(tbl[[\"weight\", \"height\"]])"
   ]
  },
  {
   "cell_type": "code",
   "execution_count": 31,
   "metadata": {},
   "outputs": [
    {
     "name": "stdout",
     "output_type": "stream",
     "text": [
      "tbl[2:4]\n",
      "    height type  weight\n",
      "2     155    n    65.5\n",
      "3     143    t    45.9\n",
      "tbl[2:]\n",
      "    height type  weight\n",
      "3     143    t    45.9\n",
      "4     154    t    51.2\n",
      "5     160    f    72.5\n"
     ]
    }
   ],
   "source": [
    "# ch5.8 pd-test-slice\n",
    "\n",
    "import pandas as pd\n",
    "tbl = pd.DataFrame({\n",
    "    \"weight\": [80.0, 70.4, 65.5, 45.9, 51.2, 72.5],\n",
    "    \"height\": [170, 180, 155, 143, 154, 160],\n",
    "    \"type\": [\"f\", \"n\", \"n\", \"t\", \"t\", \"f\"]\n",
    "})\n",
    "\n",
    "print(\"tbl[2:4]\\n\", tbl[2:4])\n",
    "print(\"tbl[2:]\\n\", tbl[3:])"
   ]
  },
  {
   "cell_type": "code",
   "execution_count": 32,
   "metadata": {},
   "outputs": [
    {
     "name": "stdout",
     "output_type": "stream",
     "text": [
      "---height가 160이상인 사람\n",
      "  gender  height  weight\n",
      "0      f     170    80.0\n",
      "1      m     180    70.4\n",
      "5      m     160    72.5\n",
      "---성별이 남자인 사람\n",
      "  gender  height  weight\n",
      "1      m     180    70.4\n",
      "2      m     155    65.5\n",
      "5      m     160    72.5\n"
     ]
    }
   ],
   "source": [
    "# ch5.8 pd-test-filter\n",
    "import pandas as pd\n",
    "\n",
    "tbl = pd.DataFrame({\n",
    "    \"weight\": [ 80.0, 70.4, 65.5, 45.9, 51.2, 72.5 ],\n",
    "    \"height\": [ 170, 180, 155, 143, 154, 160 ],\n",
    "    \"gender\": [\"f\", \"m\", \"m\", \"f\", \"f\", \"m\"]\n",
    "})\n",
    "\n",
    "print(\"---height가 160이상인 사람\")\n",
    "print(tbl[tbl.height >= 160])\n",
    "\n",
    "print(\"---성별이 남자인 사람\")\n",
    "print(tbl[tbl.gender == \"m\"])"
   ]
  },
  {
   "cell_type": "code",
   "execution_count": 33,
   "metadata": {},
   "outputs": [
    {
     "name": "stdout",
     "output_type": "stream",
     "text": [
      "---height를 키로 정렬\n",
      "  gender  height  weight\n",
      "3      f     143    45.9\n",
      "4      f     154    51.2\n",
      "2      m     155    65.5\n",
      "5      m     160    72.5\n",
      "0      f     170    80.0\n",
      "1      m     180    70.4\n",
      "---weight를 키로 정렬\n",
      "  gender  height  weight\n",
      "0      f     170    80.0\n",
      "5      m     160    72.5\n",
      "1      m     180    70.4\n",
      "2      m     155    65.5\n",
      "4      f     154    51.2\n",
      "3      f     143    45.9\n"
     ]
    }
   ],
   "source": [
    "# ch5.8 pd-test-sort\n",
    "import pandas as pd\n",
    "\n",
    "tbl = pd.DataFrame({\n",
    "    \"weight\": [80.0, 70.4, 65.5, 45.9, 51.2, 72.5],\n",
    "    \"height\": [170, 180, 155, 143, 154, 160],\n",
    "    \"gender\": [\"f\", \"m\", \"m\", \"f\", \"f\", \"m\"]\n",
    "})\n",
    "\n",
    "print(\"---height를 키로 정렬\")\n",
    "print(tbl.sort_values(by=\"height\"))\n",
    "\n",
    "print(\"---weight를 키로 정렬\")\n",
    "print(tbl.sort_values(by=\"weight\", ascending=False))"
   ]
  },
  {
   "cell_type": "code",
   "execution_count": 34,
   "metadata": {},
   "outputs": [
    {
     "name": "stdout",
     "output_type": "stream",
     "text": [
      "   0  1  2\n",
      "0  A  B  C\n",
      "1  D  E  F\n",
      "2  G  H  I\n",
      "---\n",
      "   0  1  2\n",
      "0  A  D  G\n",
      "1  B  E  H\n",
      "2  C  F  I\n"
     ]
    }
   ],
   "source": [
    " # ch5.8 pd-test-rot\n",
    "import pandas as pd\n",
    "tbl = pd.DataFrame([\n",
    "    [\"A\", \"B\", \"C\"],\n",
    "    [\"D\", \"E\", \"F\"],\n",
    "    [\"G\", \"H\", \"I\"]\n",
    "])\n",
    "\n",
    "print(tbl)\n",
    "print(\"---\")\n",
    "print(tbl.T)"
   ]
  },
  {
   "cell_type": "code",
   "execution_count": 35,
   "metadata": {},
   "outputs": [
    {
     "name": "stdout",
     "output_type": "stream",
     "text": [
      "[0. 0. 0. 0. 0. 0. 0. 0. 0. 0.]\n",
      "[0 1 2 3 4 5 6 7 8 9]\n",
      "[ 0  3  6  9 12 15 18 21 24 27]\n",
      "13.5\n"
     ]
    }
   ],
   "source": [
    "# ch5.8 np-test-calc\n",
    "import numpy as np\n",
    "\n",
    "v = np.zeros(10, dtype=np.float32)\n",
    "print(v)\n",
    "\n",
    "v = np.arange(10, dtype=np.uint64)\n",
    "print(v)\n",
    "\n",
    "# v의 전체 데이터에 대해 3 곱하기\n",
    "v *= 3\n",
    "print(v)\n",
    "\n",
    "# 평균\n",
    "print(v.mean())"
   ]
  },
  {
   "cell_type": "code",
   "execution_count": 36,
   "metadata": {},
   "outputs": [
    {
     "name": "stdout",
     "output_type": "stream",
     "text": [
      "  gender  height  weight\n",
      "0      f   0.850   0.800\n",
      "1      m   0.900   0.704\n",
      "2      m   0.775   0.655\n",
      "3      f   0.715   0.459\n",
      "4      f   0.770   0.512\n",
      "5      m   0.800   0.725\n"
     ]
    }
   ],
   "source": [
    "# ch5.8 pd-test-norm\n",
    "import pandas as pd\n",
    "tbl = pd.DataFrame({\n",
    "    \"weight\": [80.0, 70.4, 65.5, 45.9, 51.2, 72.5],\n",
    "    \"height\": [170, 180, 155, 143, 154, 160],\n",
    "    \"gender\": [\"f\", \"m\", \"m\", \"f\", \"f\", \"m\"]\n",
    "})\n",
    "\n",
    "# 테이블의 weight 컬럼에 대해 100으로 나눔\n",
    "tbl[\"weight\"] /= 100\n",
    "# 테이블의 height 컬럼에 대해 200으로 나눔 \n",
    "tbl[\"height\"] /= 200\n",
    "print(tbl)"
   ]
  },
  {
   "cell_type": "code",
   "execution_count": 2,
   "metadata": {},
   "outputs": [
    {
     "name": "stdout",
     "output_type": "stream",
     "text": [
      "weight = 45.9 - 80.0\n",
      "height = 143 - 180\n",
      "  gender    height    weight\n",
      "0      f  0.729730  1.000000\n",
      "1      m  1.000000  0.718475\n",
      "2      m  0.324324  0.574780\n",
      "3      f  0.000000  0.000000\n",
      "4      f  0.297297  0.155425\n",
      "5      m  0.459459  0.780059\n",
      "[['f' 0.7297297297297297 1.0]\n",
      " ['m' 1.0 0.7184750733137831]\n",
      " ['m' 0.32432432432432434 0.5747800586510264]\n",
      " ['f' 0.0 0.0]\n",
      " ['f' 0.2972972972972973 0.15542521994134909]\n",
      " ['m' 0.4594594594594595 0.7800586510263929]]\n"
     ]
    }
   ],
   "source": [
    "# ch5.8 pd-test-norm2\n",
    "import pandas as pd\n",
    "tbl = pd.DataFrame({\n",
    "    \"weight\": [80.0, 70.4, 65.5, 45.9, 51.2, 72.5],\n",
    "    \"height\": [170, 180, 155, 143, 154, 160],\n",
    "    \"gender\": [\"f\", \"m\", \"m\", \"f\", \"f\", \"m\"]\n",
    "})\n",
    "\n",
    "def norm(tbl, key):\n",
    "    c = tbl[key]\n",
    "    v_max = c.max()\n",
    "    v_min = c.min()\n",
    "    print(key, \"=\", v_min, \"-\", v_max)\n",
    "    tbl[key] = (c - v_min) / (v_max - v_min)\n",
    "\n",
    "norm(tbl, \"weight\")\n",
    "norm(tbl, \"height\")\n",
    "print(tbl)\n",
    "n = tbl.as_matrix()\n",
    "print(n)"
   ]
  },
  {
   "cell_type": "code",
   "execution_count": 3,
   "metadata": {},
   "outputs": [],
   "source": [
    "# for osx\n",
    "# brew install mecab\n",
    "# brew instal mecab-ko\n",
    "# \n",
    "# for linux\n",
    "# apt-get install -y mecab libmecab-dev mecab-ipadic\n",
    "# apt-get install -y mecab-ipadic-utf8\n",
    "# apt-get install -y libc6-dev build-essential\n",
    "# pip3 install mecab-python3\n"
   ]
  },
  {
   "cell_type": "code",
   "execution_count": 16,
   "metadata": {},
   "outputs": [
    {
     "name": "stdout",
     "output_type": "stream",
     "text": [
      "庭\tニワ\t庭\t名詞-一般\t\t\n",
      "に\tニ\tに\t助詞-格助詞-一般\t\t\n",
      "は\tハ\tは\t助詞-係助詞\t\t\n",
      "二\tニ\t二\t名詞-数\t\t\n",
      "羽\tワ\t羽\t名詞-接尾-助数詞\t\t\n",
      "鶏\tニワトリ\t鶏\t名詞-一般\t\t\n",
      "が\tガ\tが\t助詞-格助詞-一般\t\t\n",
      "いる\tイル\tいる\t動詞-自立\t一段\t基本形\n",
      "。\t。\t。\t記号-句点\t\t\n",
      "EOS\n",
      "\n"
     ]
    }
   ],
   "source": [
    "# ch6.1 ma-mecab.py\n",
    "import MeCab\n",
    "mecab = MeCab.Tagger(\"-Ochasen\") # -Owakati, -Oyomi, mecabrc, -Ochasen\n",
    "malist = mecab.parse(\"庭には二羽鶏がいる。\")\n",
    "print(malist)"
   ]
  },
  {
   "cell_type": "code",
   "execution_count": 17,
   "metadata": {},
   "outputs": [
    {
     "name": "stdout",
     "output_type": "stream",
     "text": [
      "庭\t名詞,一般,*,*,*,*,庭,ニワ,ニワ\n",
      "に\t助詞,格助詞,一般,*,*,*,に,ニ,ニ\n",
      "は\t助詞,係助詞,*,*,*,*,は,ハ,ワ\n",
      "二\t名詞,数,*,*,*,*,二,ニ,ニ\n",
      "羽\t名詞,接尾,助数詞,*,*,*,羽,ワ,ワ\n",
      "鶏\t名詞,一般,*,*,*,*,鶏,ニワトリ,ニワトリ\n",
      "が\t助詞,格助詞,一般,*,*,*,が,ガ,ガ\n",
      "いる\t動詞,自立,*,*,一段,基本形,いる,イル,イル\n",
      "。\t記号,句点,*,*,*,*,。,。,。\n"
     ]
    }
   ],
   "source": [
    "# ch6.1 ma-janome.py\n",
    "# pip install janome\n",
    "from janome.tokenizer import Tokenizer\n",
    "t = Tokenizer()\n",
    "malist = t.tokenize(\"庭には二羽鶏がいる。\")\n",
    "for n in malist:\n",
    "    print(n)"
   ]
  },
  {
   "cell_type": "code",
   "execution_count": null,
   "metadata": {
    "collapsed": true
   },
   "outputs": [],
   "source": []
  }
 ],
 "metadata": {
  "kernelspec": {
   "display_name": "Python 3",
   "language": "python",
   "name": "python3"
  },
  "language_info": {
   "codemirror_mode": {
    "name": "ipython",
    "version": 3
   },
   "file_extension": ".py",
   "mimetype": "text/x-python",
   "name": "python",
   "nbconvert_exporter": "python",
   "pygments_lexer": "ipython3",
   "version": "3.6.2"
  }
 },
 "nbformat": 4,
 "nbformat_minor": 2
}
